{
 "cells": [
  {
   "cell_type": "markdown",
   "metadata": {
    "id": "NUuhlEbqRaxH"
   },
   "source": [
    "# ECG classification\n",
    "\n",
    "Laurent Cetinsoy - Datadidacte\n"
   ]
  },
  {
   "cell_type": "code",
   "execution_count": 81,
   "metadata": {
    "id": "67fFPUeVOAkg"
   },
   "outputs": [],
   "source": [
    "from IPython.display import HTML\n",
    "import librosa\n",
    "import collections\n",
    "import tensorflow as tf\n",
    "\n",
    "import pywt\n",
    "from sklearn.preprocessing import StandardScaler\n",
    "from scipy.stats import entropy\n",
    "import pandas as pd\n",
    "\n",
    "from tensorflow.keras import layers, models\n",
    "from tensorflow.keras.callbacks import EarlyStopping, ModelCheckpoint\n",
    "from sklearn.model_selection import train_test_split\n",
    "from sklearn.ensemble import RandomForestClassifier\n",
    "from sklearn.metrics import accuracy_score, log_loss\n",
    "import matplotlib.pyplot as plt"
   ]
  },
  {
   "cell_type": "markdown",
   "metadata": {
    "id": "97sEwfMhRedx"
   },
   "source": [
    "## A first naive model by extracting simple features\n"
   ]
  },
  {
   "cell_type": "markdown",
   "metadata": {
    "id": "hxoiKhQxOAkj"
   },
   "source": [
    "Your environment contains variables arr, nsr, and chf which respectively contain 10-second recordings of ECG signals extracted from three datasets on PhysioNet: one from a person suffering from arrhythmia, one from a person with a normal heart rhythm, and another from a person with heart failure.\n",
    "\n",
    "\n",
    "Matplotlib  subplots (or any other library), display these signals on three subfigures (the subplots should be called with the parameter nrows = 3).\n",
    "Can you find any differences between them?"
   ]
  },
  {
   "cell_type": "code",
   "execution_count": 18,
   "metadata": {
    "id": "NcOvOjBHOAkn"
   },
   "outputs": [],
   "source": [
    "import numpy as np\n",
    "\n",
    "arr = np.loadtxt('arr.txt')\n",
    "chf = np.loadtxt('chf.txt')\n",
    "nsr = np.loadtxt('nsr.txt')\n"
   ]
  },
  {
   "cell_type": "markdown",
   "metadata": {
    "id": "RGhUVnqOOAkp"
   },
   "source": [
    "We want to extract features from the time series. For that we will use simple statistics.\n",
    "\n",
    "\n",
    "Create a function named calculate_stats_features(x) that calculates some statistical features of a signal x using standard numpy functions: nanpercentile, nanmean, etc.\n",
    "calculate_stats_features will return a list of features in this order:\n",
    "\n",
    "0. Max\n",
    "1. Min\n",
    "2. Mean\n",
    "3. Median\n",
    "4. Variance"
   ]
  },
  {
   "cell_type": "code",
   "execution_count": 19,
   "metadata": {
    "id": "5bL_r7kpOAkr"
   },
   "outputs": [],
   "source": [
    "def calculate_stats_feature(x):    \n",
    "    return [np.nanmax(x), np.nanmin(x), np.nanmean(x), np.nanmedian(x), np.nanvar(x)]"
   ]
  },
  {
   "cell_type": "markdown",
   "metadata": {
    "id": "IKjvVXp2OAks"
   },
   "source": [
    "\n",
    "\n",
    "Create a function named `calculate_zero_crossing(x)` that calculates the Zero\n",
    "Crossing of a signal x.\n",
    "\n",
    "The zero crossing is defined as the number of times the signal changes sign.\n",
    "For this, you can use the signbit, diff, and nonzero functions from numpy.\n"
   ]
  },
  {
   "cell_type": "code",
   "execution_count": 20,
   "metadata": {
    "id": "3VYWsUzuOAkt"
   },
   "outputs": [],
   "source": [
    "def calculate_zero_crossing(x):\n",
    "    sign_changes = np.signbit(x)\n",
    "    diff_sign = np.diff(sign_changes)\n",
    "    zero_crossings = np.count_nonzero(diff_sign)\n",
    "    return zero_crossings"
   ]
  },
  {
   "cell_type": "markdown",
   "metadata": {
    "id": "n1GOwESaOAku"
   },
   "source": [
    "Create a function named **calculate_rms(x)** that returns the Root Mean Square (RMS) of a signal x. We will use the nanmean function instead of the mean function from numpy."
   ]
  },
  {
   "cell_type": "code",
   "execution_count": 21,
   "metadata": {
    "id": "-U7UijZmOAkv"
   },
   "outputs": [],
   "source": [
    "def calculate_rms(x):\n",
    "    return np.sqrt(np.nanmean(np.square(x)))"
   ]
  },
  {
   "cell_type": "markdown",
   "metadata": {
    "id": "C8k_q79eOAkx"
   },
   "source": [
    "Create a function named calculate_entropy(x) that calculates the Shannon entropy of a signal x using the entropy function from scipy.stats."
   ]
  },
  {
   "cell_type": "code",
   "execution_count": 22,
   "metadata": {
    "id": "a8qCOZ0oOAky"
   },
   "outputs": [],
   "source": [
    "def calculate_entropy(x):\n",
    "    values, counts = np.unique(x, return_counts=True)\n",
    "    prob_dist = counts / counts.sum()\n",
    "    entropy_value = entropy(prob_dist, base=2)\n",
    "    \n",
    "    return entropy_value"
   ]
  },
  {
   "cell_type": "markdown",
   "metadata": {
    "id": "Si5V1s4TOAky"
   },
   "source": [
    "Create a function get_features(x) that combines the features calculated by all previous functions including caculate_stats_features."
   ]
  },
  {
   "cell_type": "code",
   "execution_count": 23,
   "metadata": {
    "id": "lsPvzLLyOAkz"
   },
   "outputs": [],
   "source": [
    "def get_features(x):\n",
    "    \n",
    "    stats_features = calculate_stats_feature(x)\n",
    "    stats_features.append(calculate_zero_crossing(x))\n",
    "    stats_features.append(calculate_rms(x))\n",
    "    stats_features.append(calculate_entropy(x))\n",
    "    \n",
    "    return np.array(stats_features)\n",
    "    "
   ]
  },
  {
   "cell_type": "markdown",
   "metadata": {
    "id": "mFsLZU7NOrwj"
   },
   "source": [
    "Load the small ecg dataset\n",
    "Use your fonction get_features create a new dataframe where you have all the feature as X and y as the label.\n",
    "Train a random forest on it after doing a train test split if the dataset is not too small"
   ]
  },
  {
   "cell_type": "code",
   "execution_count": 28,
   "metadata": {},
   "outputs": [
    {
     "name": "stderr",
     "output_type": "stream",
     "text": [
      "/var/folders/_t/_09rqyyj0v3g_c9sgq8sp4k40000gn/T/ipykernel_1950/843125960.py:1: DtypeWarning: Columns (0) have mixed types. Specify dtype option on import or set low_memory=False.\n",
      "  df = pd.read_csv('ECG-laurent.csv')\n"
     ]
    },
    {
     "data": {
      "text/html": [
       "<div>\n",
       "<style scoped>\n",
       "    .dataframe tbody tr th:only-of-type {\n",
       "        vertical-align: middle;\n",
       "    }\n",
       "\n",
       "    .dataframe tbody tr th {\n",
       "        vertical-align: top;\n",
       "    }\n",
       "\n",
       "    .dataframe thead th {\n",
       "        text-align: right;\n",
       "    }\n",
       "</style>\n",
       "<table border=\"1\" class=\"dataframe\">\n",
       "  <thead>\n",
       "    <tr style=\"text-align: right;\">\n",
       "      <th></th>\n",
       "      <th>0</th>\n",
       "      <th>1</th>\n",
       "      <th>2</th>\n",
       "      <th>3</th>\n",
       "      <th>4</th>\n",
       "      <th>5</th>\n",
       "      <th>6</th>\n",
       "      <th>7</th>\n",
       "      <th>8</th>\n",
       "      <th>9</th>\n",
       "      <th>...</th>\n",
       "      <th>65528</th>\n",
       "      <th>65529</th>\n",
       "      <th>65530</th>\n",
       "      <th>65531</th>\n",
       "      <th>65532</th>\n",
       "      <th>65533</th>\n",
       "      <th>65534</th>\n",
       "      <th>65535</th>\n",
       "      <th>65536</th>\n",
       "      <th>65537</th>\n",
       "    </tr>\n",
       "  </thead>\n",
       "  <tbody>\n",
       "    <tr>\n",
       "      <th>0</th>\n",
       "      <td>213</td>\n",
       "      <td>1</td>\n",
       "      <td>-0.060085</td>\n",
       "      <td>0.001638</td>\n",
       "      <td>-0.014941</td>\n",
       "      <td>-0.018776</td>\n",
       "      <td>-0.110048</td>\n",
       "      <td>-0.160348</td>\n",
       "      <td>-0.196445</td>\n",
       "      <td>-0.287140</td>\n",
       "      <td>...</td>\n",
       "      <td>-0.145316</td>\n",
       "      <td>-0.088612</td>\n",
       "      <td>0.001568</td>\n",
       "      <td>0.066026</td>\n",
       "      <td>0.154291</td>\n",
       "      <td>0.214976</td>\n",
       "      <td>0.227396</td>\n",
       "      <td>0.172451</td>\n",
       "      <td>0.011588</td>\n",
       "      <td>-0.154281</td>\n",
       "    </tr>\n",
       "    <tr>\n",
       "      <th>1</th>\n",
       "      <td>213</td>\n",
       "      <td>1</td>\n",
       "      <td>-0.467585</td>\n",
       "      <td>-0.650931</td>\n",
       "      <td>-0.595663</td>\n",
       "      <td>-0.627657</td>\n",
       "      <td>-0.552164</td>\n",
       "      <td>-0.532318</td>\n",
       "      <td>-0.500500</td>\n",
       "      <td>-0.486974</td>\n",
       "      <td>...</td>\n",
       "      <td>0.273010</td>\n",
       "      <td>0.279927</td>\n",
       "      <td>0.213876</td>\n",
       "      <td>0.137012</td>\n",
       "      <td>0.019218</td>\n",
       "      <td>-0.031818</td>\n",
       "      <td>-0.068809</td>\n",
       "      <td>-0.068333</td>\n",
       "      <td>-0.178109</td>\n",
       "      <td>-0.136239</td>\n",
       "    </tr>\n",
       "    <tr>\n",
       "      <th>2</th>\n",
       "      <td>207</td>\n",
       "      <td>1</td>\n",
       "      <td>-0.155555</td>\n",
       "      <td>-0.229827</td>\n",
       "      <td>-0.207653</td>\n",
       "      <td>-0.210114</td>\n",
       "      <td>-0.191253</td>\n",
       "      <td>-0.184057</td>\n",
       "      <td>-0.152477</td>\n",
       "      <td>-0.171106</td>\n",
       "      <td>...</td>\n",
       "      <td>-1.238173</td>\n",
       "      <td>-1.112138</td>\n",
       "      <td>-0.812259</td>\n",
       "      <td>-0.595419</td>\n",
       "      <td>-0.444057</td>\n",
       "      <td>-0.326833</td>\n",
       "      <td>-0.117486</td>\n",
       "      <td>-0.038309</td>\n",
       "      <td>-0.015658</td>\n",
       "      <td>0.004507</td>\n",
       "    </tr>\n",
       "    <tr>\n",
       "      <th>3</th>\n",
       "      <td>207</td>\n",
       "      <td>1</td>\n",
       "      <td>0.099644</td>\n",
       "      <td>0.098019</td>\n",
       "      <td>0.089555</td>\n",
       "      <td>0.108130</td>\n",
       "      <td>0.070369</td>\n",
       "      <td>0.083866</td>\n",
       "      <td>0.073525</td>\n",
       "      <td>0.061310</td>\n",
       "      <td>...</td>\n",
       "      <td>-0.291689</td>\n",
       "      <td>-0.111845</td>\n",
       "      <td>0.180895</td>\n",
       "      <td>0.373213</td>\n",
       "      <td>0.486517</td>\n",
       "      <td>0.394578</td>\n",
       "      <td>0.283331</td>\n",
       "      <td>0.169355</td>\n",
       "      <td>0.166666</td>\n",
       "      <td>0.146715</td>\n",
       "    </tr>\n",
       "    <tr>\n",
       "      <th>4</th>\n",
       "      <td>212</td>\n",
       "      <td>1</td>\n",
       "      <td>-0.368856</td>\n",
       "      <td>-0.530640</td>\n",
       "      <td>-0.487672</td>\n",
       "      <td>-0.447722</td>\n",
       "      <td>-0.276366</td>\n",
       "      <td>-0.292531</td>\n",
       "      <td>-0.236326</td>\n",
       "      <td>-0.209993</td>\n",
       "      <td>...</td>\n",
       "      <td>-0.546984</td>\n",
       "      <td>-0.427314</td>\n",
       "      <td>-0.527221</td>\n",
       "      <td>-0.588838</td>\n",
       "      <td>-0.624649</td>\n",
       "      <td>-0.577075</td>\n",
       "      <td>-0.652600</td>\n",
       "      <td>-0.500391</td>\n",
       "      <td>-0.386848</td>\n",
       "      <td>-0.161838</td>\n",
       "    </tr>\n",
       "    <tr>\n",
       "      <th>...</th>\n",
       "      <td>...</td>\n",
       "      <td>...</td>\n",
       "      <td>...</td>\n",
       "      <td>...</td>\n",
       "      <td>...</td>\n",
       "      <td>...</td>\n",
       "      <td>...</td>\n",
       "      <td>...</td>\n",
       "      <td>...</td>\n",
       "      <td>...</td>\n",
       "      <td>...</td>\n",
       "      <td>...</td>\n",
       "      <td>...</td>\n",
       "      <td>...</td>\n",
       "      <td>...</td>\n",
       "      <td>...</td>\n",
       "      <td>...</td>\n",
       "      <td>...</td>\n",
       "      <td>...</td>\n",
       "      <td>...</td>\n",
       "      <td>...</td>\n",
       "    </tr>\n",
       "    <tr>\n",
       "      <th>157</th>\n",
       "      <td>chf12</td>\n",
       "      <td>2</td>\n",
       "      <td>0.074907</td>\n",
       "      <td>0.105856</td>\n",
       "      <td>-0.000567</td>\n",
       "      <td>-0.439990</td>\n",
       "      <td>-0.876207</td>\n",
       "      <td>-1.187291</td>\n",
       "      <td>-1.334461</td>\n",
       "      <td>-1.255440</td>\n",
       "      <td>...</td>\n",
       "      <td>-0.027454</td>\n",
       "      <td>0.002023</td>\n",
       "      <td>0.025988</td>\n",
       "      <td>0.018896</td>\n",
       "      <td>0.033075</td>\n",
       "      <td>0.050003</td>\n",
       "      <td>0.059558</td>\n",
       "      <td>0.056467</td>\n",
       "      <td>0.098536</td>\n",
       "      <td>0.089279</td>\n",
       "    </tr>\n",
       "    <tr>\n",
       "      <th>158</th>\n",
       "      <td>chf08</td>\n",
       "      <td>2</td>\n",
       "      <td>-0.320028</td>\n",
       "      <td>-0.404340</td>\n",
       "      <td>-0.396922</td>\n",
       "      <td>-0.409747</td>\n",
       "      <td>-0.408599</td>\n",
       "      <td>-0.397462</td>\n",
       "      <td>-0.391675</td>\n",
       "      <td>-0.345731</td>\n",
       "      <td>...</td>\n",
       "      <td>-0.235219</td>\n",
       "      <td>-0.209356</td>\n",
       "      <td>-0.203681</td>\n",
       "      <td>-0.195236</td>\n",
       "      <td>-0.203310</td>\n",
       "      <td>-0.192466</td>\n",
       "      <td>-0.200470</td>\n",
       "      <td>-0.177530</td>\n",
       "      <td>-0.195617</td>\n",
       "      <td>-0.168229</td>\n",
       "    </tr>\n",
       "    <tr>\n",
       "      <th>159</th>\n",
       "      <td>chf08</td>\n",
       "      <td>2</td>\n",
       "      <td>-0.117367</td>\n",
       "      <td>-0.069165</td>\n",
       "      <td>-0.072747</td>\n",
       "      <td>-0.090340</td>\n",
       "      <td>-0.095915</td>\n",
       "      <td>-0.094605</td>\n",
       "      <td>-0.138618</td>\n",
       "      <td>-0.139901</td>\n",
       "      <td>...</td>\n",
       "      <td>-0.194281</td>\n",
       "      <td>-0.188166</td>\n",
       "      <td>-0.179020</td>\n",
       "      <td>-0.201753</td>\n",
       "      <td>-0.184603</td>\n",
       "      <td>-0.185422</td>\n",
       "      <td>-0.180237</td>\n",
       "      <td>-0.187840</td>\n",
       "      <td>-0.172069</td>\n",
       "      <td>-0.171569</td>\n",
       "    </tr>\n",
       "    <tr>\n",
       "      <th>160</th>\n",
       "      <td>chf09</td>\n",
       "      <td>2</td>\n",
       "      <td>0.191584</td>\n",
       "      <td>0.405085</td>\n",
       "      <td>0.315481</td>\n",
       "      <td>0.218790</td>\n",
       "      <td>-0.024663</td>\n",
       "      <td>-0.169857</td>\n",
       "      <td>-0.366068</td>\n",
       "      <td>-0.493332</td>\n",
       "      <td>...</td>\n",
       "      <td>-0.203226</td>\n",
       "      <td>-0.223304</td>\n",
       "      <td>-0.226758</td>\n",
       "      <td>-0.238972</td>\n",
       "      <td>-0.218572</td>\n",
       "      <td>-0.261438</td>\n",
       "      <td>-0.243642</td>\n",
       "      <td>-0.320345</td>\n",
       "      <td>-0.296373</td>\n",
       "      <td>-0.381885</td>\n",
       "    </tr>\n",
       "    <tr>\n",
       "      <th>161</th>\n",
       "      <td>chf09</td>\n",
       "      <td>2</td>\n",
       "      <td>0.118752</td>\n",
       "      <td>0.392734</td>\n",
       "      <td>0.244206</td>\n",
       "      <td>0.208688</td>\n",
       "      <td>0.097630</td>\n",
       "      <td>-0.171194</td>\n",
       "      <td>-0.322495</td>\n",
       "      <td>-0.314085</td>\n",
       "      <td>...</td>\n",
       "      <td>-0.229654</td>\n",
       "      <td>-0.227367</td>\n",
       "      <td>-0.237788</td>\n",
       "      <td>-0.277769</td>\n",
       "      <td>-0.221940</td>\n",
       "      <td>-0.239414</td>\n",
       "      <td>-0.211494</td>\n",
       "      <td>-0.217100</td>\n",
       "      <td>-0.271023</td>\n",
       "      <td>-0.403293</td>\n",
       "    </tr>\n",
       "  </tbody>\n",
       "</table>\n",
       "<p>162 rows × 65538 columns</p>\n",
       "</div>"
      ],
      "text/plain": [
       "         0  1         2         3         4         5         6         7  \\\n",
       "0      213  1 -0.060085  0.001638 -0.014941 -0.018776 -0.110048 -0.160348   \n",
       "1      213  1 -0.467585 -0.650931 -0.595663 -0.627657 -0.552164 -0.532318   \n",
       "2      207  1 -0.155555 -0.229827 -0.207653 -0.210114 -0.191253 -0.184057   \n",
       "3      207  1  0.099644  0.098019  0.089555  0.108130  0.070369  0.083866   \n",
       "4      212  1 -0.368856 -0.530640 -0.487672 -0.447722 -0.276366 -0.292531   \n",
       "..     ... ..       ...       ...       ...       ...       ...       ...   \n",
       "157  chf12  2  0.074907  0.105856 -0.000567 -0.439990 -0.876207 -1.187291   \n",
       "158  chf08  2 -0.320028 -0.404340 -0.396922 -0.409747 -0.408599 -0.397462   \n",
       "159  chf08  2 -0.117367 -0.069165 -0.072747 -0.090340 -0.095915 -0.094605   \n",
       "160  chf09  2  0.191584  0.405085  0.315481  0.218790 -0.024663 -0.169857   \n",
       "161  chf09  2  0.118752  0.392734  0.244206  0.208688  0.097630 -0.171194   \n",
       "\n",
       "            8         9  ...     65528     65529     65530     65531  \\\n",
       "0   -0.196445 -0.287140  ... -0.145316 -0.088612  0.001568  0.066026   \n",
       "1   -0.500500 -0.486974  ...  0.273010  0.279927  0.213876  0.137012   \n",
       "2   -0.152477 -0.171106  ... -1.238173 -1.112138 -0.812259 -0.595419   \n",
       "3    0.073525  0.061310  ... -0.291689 -0.111845  0.180895  0.373213   \n",
       "4   -0.236326 -0.209993  ... -0.546984 -0.427314 -0.527221 -0.588838   \n",
       "..        ...       ...  ...       ...       ...       ...       ...   \n",
       "157 -1.334461 -1.255440  ... -0.027454  0.002023  0.025988  0.018896   \n",
       "158 -0.391675 -0.345731  ... -0.235219 -0.209356 -0.203681 -0.195236   \n",
       "159 -0.138618 -0.139901  ... -0.194281 -0.188166 -0.179020 -0.201753   \n",
       "160 -0.366068 -0.493332  ... -0.203226 -0.223304 -0.226758 -0.238972   \n",
       "161 -0.322495 -0.314085  ... -0.229654 -0.227367 -0.237788 -0.277769   \n",
       "\n",
       "        65532     65533     65534     65535     65536     65537  \n",
       "0    0.154291  0.214976  0.227396  0.172451  0.011588 -0.154281  \n",
       "1    0.019218 -0.031818 -0.068809 -0.068333 -0.178109 -0.136239  \n",
       "2   -0.444057 -0.326833 -0.117486 -0.038309 -0.015658  0.004507  \n",
       "3    0.486517  0.394578  0.283331  0.169355  0.166666  0.146715  \n",
       "4   -0.624649 -0.577075 -0.652600 -0.500391 -0.386848 -0.161838  \n",
       "..        ...       ...       ...       ...       ...       ...  \n",
       "157  0.033075  0.050003  0.059558  0.056467  0.098536  0.089279  \n",
       "158 -0.203310 -0.192466 -0.200470 -0.177530 -0.195617 -0.168229  \n",
       "159 -0.184603 -0.185422 -0.180237 -0.187840 -0.172069 -0.171569  \n",
       "160 -0.218572 -0.261438 -0.243642 -0.320345 -0.296373 -0.381885  \n",
       "161 -0.221940 -0.239414 -0.211494 -0.217100 -0.271023 -0.403293  \n",
       "\n",
       "[162 rows x 65538 columns]"
      ]
     },
     "execution_count": 28,
     "metadata": {},
     "output_type": "execute_result"
    }
   ],
   "source": [
    "df = pd.read_csv('ECG-laurent.csv')\n",
    "df"
   ]
  },
  {
   "cell_type": "code",
   "execution_count": 29,
   "metadata": {
    "id": "wxVtGDtuOAk1"
   },
   "outputs": [
    {
     "name": "stderr",
     "output_type": "stream",
     "text": [
      "/var/folders/_t/_09rqyyj0v3g_c9sgq8sp4k40000gn/T/ipykernel_1950/3767728652.py:5: SettingWithCopyWarning: \n",
      "A value is trying to be set on a copy of a slice from a DataFrame\n",
      "\n",
      "See the caveats in the documentation: https://pandas.pydata.org/pandas-docs/stable/user_guide/indexing.html#returning-a-view-versus-a-copy\n",
      "  df.rename(columns={\"1\" : \"y\"}, inplace=True)\n",
      "/var/folders/_t/_09rqyyj0v3g_c9sgq8sp4k40000gn/T/ipykernel_1950/3767728652.py:6: SettingWithCopyWarning: \n",
      "A value is trying to be set on a copy of a slice from a DataFrame.\n",
      "Try using .loc[row_indexer,col_indexer] = value instead\n",
      "\n",
      "See the caveats in the documentation: https://pandas.pydata.org/pandas-docs/stable/user_guide/indexing.html#returning-a-view-versus-a-copy\n",
      "  df['X'] = None\n"
     ]
    }
   ],
   "source": [
    "datas = df.iloc[:, 2:]\n",
    "datas = pd.DataFrame(datas).to_numpy()\n",
    "df = df.iloc[:, 1:2]\n",
    "\n",
    "df.rename(columns={\"1\" : \"y\"}, inplace=True)\n",
    "df['X'] = None\n",
    "\n",
    "feature_list = []\n",
    "for data in datas :\n",
    "    feature_list.append(get_features(data))\n",
    "    \n",
    "X_feature = pd.DataFrame(feature_list)  "
   ]
  },
  {
   "cell_type": "code",
   "execution_count": 30,
   "metadata": {},
   "outputs": [],
   "source": [
    "X = X_feature\n",
    "y = df['y']\n",
    "\n",
    "# Take a small subset (10% of the full data)\n",
    "X_small, _, y_small, _ = train_test_split(X, y, train_size=0.1, random_state=42)\n",
    "\n",
    "# Now split this smaller subset into train and test\n",
    "X_train, X_test, y_train, y_test = train_test_split(X_small, y_small, test_size=0.2, random_state=42)"
   ]
  },
  {
   "cell_type": "code",
   "execution_count": 31,
   "metadata": {},
   "outputs": [
    {
     "name": "stdout",
     "output_type": "stream",
     "text": [
      "Accuracy: 1.00\n"
     ]
    }
   ],
   "source": [
    "clf = RandomForestClassifier(n_estimators=100, random_state=42)\n",
    "clf.fit(X_train, y_train)\n",
    "\n",
    "y_pred = clf.predict(X_test)\n",
    "accuracy = accuracy_score(y_test, y_pred)\n",
    "\n",
    "print(f\"Accuracy: {accuracy:.2f}\")"
   ]
  },
  {
   "cell_type": "markdown",
   "metadata": {
    "id": "9VZ5cb6SQIlF"
   },
   "source": [
    "Now you have a first pipeline, do the same on the full dataset\n",
    "Report the train and test loss"
   ]
  },
  {
   "cell_type": "markdown",
   "metadata": {
    "id": "7ydigZirQPT3"
   },
   "source": [
    "try to tweak the model hyperparameter to see if it works"
   ]
  },
  {
   "cell_type": "code",
   "execution_count": null,
   "metadata": {
    "id": "cMeMnNXTQVVp"
   },
   "outputs": [
    {
     "name": "stdout",
     "output_type": "stream",
     "text": [
      "Train Loss (Log Loss): 0.0855\n",
      "Test Loss (Log Loss): 0.2431\n",
      "Train Accuracy: 1.00\n",
      "Test Accuracy: 0.88\n"
     ]
    }
   ],
   "source": [
    "X_train, X_test, y_train, y_test = train_test_split(X, y, test_size=0.2, random_state=42)\n",
    "clf = RandomForestClassifier(n_estimators=100, random_state=42)\n",
    "clf.fit(X_train, y_train)\n",
    "\n",
    "y_train_pred_proba = clf.predict_proba(X_train)\n",
    "y_test_pred_proba = clf.predict_proba(X_test)\n",
    "\n",
    "train_loss = log_loss(y_train, y_train_pred_proba)\n",
    "test_loss = log_loss(y_test, y_test_pred_proba)\n",
    "\n",
    "y_train_pred = clf.predict(X_train)\n",
    "y_test_pred = clf.predict(X_test)\n",
    "train_accuracy = accuracy_score(y_train, y_train_pred)\n",
    "test_accuracy = accuracy_score(y_test, y_test_pred)\n",
    "\n",
    "print(f\"Train Loss (Log Loss): {train_loss:.4f}\")\n",
    "print(f\"Test Loss (Log Loss): {test_loss:.4f}\")\n",
    "print(f\"Train Accuracy: {train_accuracy:.2f}\")\n",
    "print(f\"Test Accuracy: {test_accuracy:.2f}\")"
   ]
  },
  {
   "cell_type": "markdown",
   "metadata": {
    "id": "9KDBZQIyRki5"
   },
   "source": [
    "## Fourier transform features"
   ]
  },
  {
   "cell_type": "markdown",
   "metadata": {
    "id": "GrSJhsOeQWne"
   },
   "source": [
    "We want now to see if a model using only fourier transform could work.\n",
    "\n",
    "create a function get_fourier_coefficients(ecg)"
   ]
  },
  {
   "cell_type": "code",
   "execution_count": 35,
   "metadata": {
    "id": "S-dIwyPbQhTV"
   },
   "outputs": [],
   "source": [
    "def get_fourier_coefficients(ecg, n_coefficients=20):\n",
    "    fft_result = np.fft.fft(ecg)\n",
    "    fft_result = fft_result[:n_coefficients]\n",
    "    real_part = fft_result.real\n",
    "    imag_part = fft_result.imag\n",
    "    features = np.concatenate([real_part, imag_part])\n",
    "    return features\n"
   ]
  },
  {
   "cell_type": "markdown",
   "metadata": {
    "id": "sDpN0NMHQhxL"
   },
   "source": [
    "Using this function create a dataframe df_fourrier containing the fourrier transform coefficients and the label"
   ]
  },
  {
   "cell_type": "code",
   "execution_count": 36,
   "metadata": {
    "id": "lgB1xBetQsI2"
   },
   "outputs": [
    {
     "name": "stderr",
     "output_type": "stream",
     "text": [
      "/var/folders/_t/_09rqyyj0v3g_c9sgq8sp4k40000gn/T/ipykernel_1950/586825887.py:1: DtypeWarning: Columns (0) have mixed types. Specify dtype option on import or set low_memory=False.\n",
      "  df = pd.read_csv('ECG-laurent.csv')\n"
     ]
    },
    {
     "data": {
      "text/html": [
       "<div>\n",
       "<style scoped>\n",
       "    .dataframe tbody tr th:only-of-type {\n",
       "        vertical-align: middle;\n",
       "    }\n",
       "\n",
       "    .dataframe tbody tr th {\n",
       "        vertical-align: top;\n",
       "    }\n",
       "\n",
       "    .dataframe thead th {\n",
       "        text-align: right;\n",
       "    }\n",
       "</style>\n",
       "<table border=\"1\" class=\"dataframe\">\n",
       "  <thead>\n",
       "    <tr style=\"text-align: right;\">\n",
       "      <th></th>\n",
       "      <th>0</th>\n",
       "      <th>1</th>\n",
       "      <th>2</th>\n",
       "      <th>3</th>\n",
       "      <th>4</th>\n",
       "      <th>5</th>\n",
       "      <th>6</th>\n",
       "      <th>7</th>\n",
       "      <th>8</th>\n",
       "      <th>9</th>\n",
       "      <th>...</th>\n",
       "      <th>31</th>\n",
       "      <th>32</th>\n",
       "      <th>33</th>\n",
       "      <th>34</th>\n",
       "      <th>35</th>\n",
       "      <th>36</th>\n",
       "      <th>37</th>\n",
       "      <th>38</th>\n",
       "      <th>39</th>\n",
       "      <th>label</th>\n",
       "    </tr>\n",
       "  </thead>\n",
       "  <tbody>\n",
       "    <tr>\n",
       "      <th>0</th>\n",
       "      <td>-17599.976889</td>\n",
       "      <td>-758.813702</td>\n",
       "      <td>-93.278558</td>\n",
       "      <td>-592.319401</td>\n",
       "      <td>-305.129117</td>\n",
       "      <td>-385.483756</td>\n",
       "      <td>-791.780539</td>\n",
       "      <td>-459.654824</td>\n",
       "      <td>-1258.509759</td>\n",
       "      <td>315.708424</td>\n",
       "      <td>...</td>\n",
       "      <td>259.019479</td>\n",
       "      <td>-802.993730</td>\n",
       "      <td>515.802733</td>\n",
       "      <td>631.752566</td>\n",
       "      <td>-48.499544</td>\n",
       "      <td>-86.816673</td>\n",
       "      <td>-92.374215</td>\n",
       "      <td>-121.427423</td>\n",
       "      <td>-89.337117</td>\n",
       "      <td>1</td>\n",
       "    </tr>\n",
       "    <tr>\n",
       "      <th>1</th>\n",
       "      <td>-14484.396444</td>\n",
       "      <td>-1625.487534</td>\n",
       "      <td>-1115.147467</td>\n",
       "      <td>-592.487213</td>\n",
       "      <td>-554.254257</td>\n",
       "      <td>-285.183354</td>\n",
       "      <td>296.268696</td>\n",
       "      <td>-204.265852</td>\n",
       "      <td>-1635.338876</td>\n",
       "      <td>865.993022</td>\n",
       "      <td>...</td>\n",
       "      <td>712.090468</td>\n",
       "      <td>98.169533</td>\n",
       "      <td>743.834019</td>\n",
       "      <td>540.724815</td>\n",
       "      <td>371.019023</td>\n",
       "      <td>650.477304</td>\n",
       "      <td>659.724292</td>\n",
       "      <td>722.124494</td>\n",
       "      <td>315.183089</td>\n",
       "      <td>1</td>\n",
       "    </tr>\n",
       "    <tr>\n",
       "      <th>2</th>\n",
       "      <td>-10683.818667</td>\n",
       "      <td>385.954517</td>\n",
       "      <td>-196.939828</td>\n",
       "      <td>-224.784712</td>\n",
       "      <td>-96.282300</td>\n",
       "      <td>-673.024888</td>\n",
       "      <td>-577.757255</td>\n",
       "      <td>-508.416037</td>\n",
       "      <td>67.634488</td>\n",
       "      <td>-900.547863</td>\n",
       "      <td>...</td>\n",
       "      <td>452.045771</td>\n",
       "      <td>-602.824902</td>\n",
       "      <td>-80.833608</td>\n",
       "      <td>380.011376</td>\n",
       "      <td>31.910868</td>\n",
       "      <td>132.016497</td>\n",
       "      <td>-271.253223</td>\n",
       "      <td>-149.300160</td>\n",
       "      <td>224.742667</td>\n",
       "      <td>1</td>\n",
       "    </tr>\n",
       "    <tr>\n",
       "      <th>3</th>\n",
       "      <td>3536.462222</td>\n",
       "      <td>-264.551162</td>\n",
       "      <td>-298.594840</td>\n",
       "      <td>446.614788</td>\n",
       "      <td>-613.430463</td>\n",
       "      <td>-244.125989</td>\n",
       "      <td>-561.247176</td>\n",
       "      <td>402.691658</td>\n",
       "      <td>-785.782374</td>\n",
       "      <td>-201.149215</td>\n",
       "      <td>...</td>\n",
       "      <td>-812.093241</td>\n",
       "      <td>44.523408</td>\n",
       "      <td>-89.576617</td>\n",
       "      <td>-210.782327</td>\n",
       "      <td>45.826319</td>\n",
       "      <td>-236.954452</td>\n",
       "      <td>-416.225300</td>\n",
       "      <td>-184.073844</td>\n",
       "      <td>-222.929991</td>\n",
       "      <td>1</td>\n",
       "    </tr>\n",
       "    <tr>\n",
       "      <th>4</th>\n",
       "      <td>-9756.496000</td>\n",
       "      <td>7.358478</td>\n",
       "      <td>464.681459</td>\n",
       "      <td>-467.787635</td>\n",
       "      <td>271.644373</td>\n",
       "      <td>98.127012</td>\n",
       "      <td>95.593713</td>\n",
       "      <td>-66.534328</td>\n",
       "      <td>865.344309</td>\n",
       "      <td>-182.809107</td>\n",
       "      <td>...</td>\n",
       "      <td>92.142159</td>\n",
       "      <td>289.296922</td>\n",
       "      <td>-233.400921</td>\n",
       "      <td>-157.681651</td>\n",
       "      <td>81.472825</td>\n",
       "      <td>573.779937</td>\n",
       "      <td>-92.572111</td>\n",
       "      <td>-150.177272</td>\n",
       "      <td>-193.495854</td>\n",
       "      <td>1</td>\n",
       "    </tr>\n",
       "  </tbody>\n",
       "</table>\n",
       "<p>5 rows × 41 columns</p>\n",
       "</div>"
      ],
      "text/plain": [
       "              0            1            2           3           4           5  \\\n",
       "0 -17599.976889  -758.813702   -93.278558 -592.319401 -305.129117 -385.483756   \n",
       "1 -14484.396444 -1625.487534 -1115.147467 -592.487213 -554.254257 -285.183354   \n",
       "2 -10683.818667   385.954517  -196.939828 -224.784712  -96.282300 -673.024888   \n",
       "3   3536.462222  -264.551162  -298.594840  446.614788 -613.430463 -244.125989   \n",
       "4  -9756.496000     7.358478   464.681459 -467.787635  271.644373   98.127012   \n",
       "\n",
       "            6           7            8           9  ...          31  \\\n",
       "0 -791.780539 -459.654824 -1258.509759  315.708424  ...  259.019479   \n",
       "1  296.268696 -204.265852 -1635.338876  865.993022  ...  712.090468   \n",
       "2 -577.757255 -508.416037    67.634488 -900.547863  ...  452.045771   \n",
       "3 -561.247176  402.691658  -785.782374 -201.149215  ... -812.093241   \n",
       "4   95.593713  -66.534328   865.344309 -182.809107  ...   92.142159   \n",
       "\n",
       "           32          33          34          35          36          37  \\\n",
       "0 -802.993730  515.802733  631.752566  -48.499544  -86.816673  -92.374215   \n",
       "1   98.169533  743.834019  540.724815  371.019023  650.477304  659.724292   \n",
       "2 -602.824902  -80.833608  380.011376   31.910868  132.016497 -271.253223   \n",
       "3   44.523408  -89.576617 -210.782327   45.826319 -236.954452 -416.225300   \n",
       "4  289.296922 -233.400921 -157.681651   81.472825  573.779937  -92.572111   \n",
       "\n",
       "           38          39  label  \n",
       "0 -121.427423  -89.337117      1  \n",
       "1  722.124494  315.183089      1  \n",
       "2 -149.300160  224.742667      1  \n",
       "3 -184.073844 -222.929991      1  \n",
       "4 -150.177272 -193.495854      1  \n",
       "\n",
       "[5 rows x 41 columns]"
      ]
     },
     "execution_count": 36,
     "metadata": {},
     "output_type": "execute_result"
    }
   ],
   "source": [
    "df = pd.read_csv('ECG-laurent.csv')\n",
    "\n",
    "datas = df.iloc[:, 2:].to_numpy()\n",
    "labels = df.iloc[:, 1]\n",
    "\n",
    "fourier_features = [get_fourier_coefficients(ecg, n_coefficients=20) for ecg in datas]\n",
    "\n",
    "df_fourier = pd.DataFrame(fourier_features)\n",
    "df_fourier['label'] = labels.values\n",
    "\n",
    "df_fourier.head()"
   ]
  },
  {
   "cell_type": "markdown",
   "metadata": {
    "id": "fvazWtOTQsjN"
   },
   "source": [
    "Try to train a model using the Fourrier coefficient"
   ]
  },
  {
   "cell_type": "code",
   "execution_count": 38,
   "metadata": {},
   "outputs": [
    {
     "name": "stdout",
     "output_type": "stream",
     "text": [
      "Accuracy Fourier Coef: 0.79\n"
     ]
    }
   ],
   "source": [
    "X = df_fourier.drop(columns=['label'])\n",
    "y = df_fourier['label']\n",
    "X_train, X_test, y_train, y_test = train_test_split(X, y, test_size=0.2, random_state=42)\n",
    "\n",
    "clf = RandomForestClassifier(n_estimators=100, random_state=42)\n",
    "clf.fit(X_train, y_train)\n",
    "\n",
    "y_pred = clf.predict(X_test)\n",
    "accuracy = accuracy_score(y_test, y_pred)\n",
    "\n",
    "print(f\"Accuracy Fourier Coef: {accuracy:.2f}\")"
   ]
  },
  {
   "cell_type": "markdown",
   "metadata": {
    "id": "fdQJVPwTQyPW"
   },
   "source": [
    "Try to learn a model using both fourrier coefficient and the features from the previous sections. Does it work ?"
   ]
  },
  {
   "cell_type": "code",
   "execution_count": 40,
   "metadata": {
    "id": "L_btzUlQQxf4"
   },
   "outputs": [
    {
     "name": "stdout",
     "output_type": "stream",
     "text": [
      "Accuracy Combined Features: 0.85\n"
     ]
    }
   ],
   "source": [
    "combined_features = pd.concat([X_feature, df_fourier.drop(columns=['label'])], axis=1)\n",
    "\n",
    "y_combined = y\n",
    "\n",
    "X_train, X_test, y_train, y_test = train_test_split(combined_features, y_combined, test_size=0.2, random_state=42)\n",
    "\n",
    "clf = RandomForestClassifier(n_estimators=100, random_state=42)\n",
    "clf.fit(X_train, y_train)\n",
    "\n",
    "y_pred = clf.predict(X_test)\n",
    "accuracy = accuracy_score(y_test, y_pred)\n",
    "\n",
    "print(f\"Accuracy Combined Features: {accuracy:.2f}\")"
   ]
  },
  {
   "cell_type": "markdown",
   "metadata": {
    "id": "TdMV9alsRYA7"
   },
   "source": [
    "## Wavelets"
   ]
  },
  {
   "cell_type": "markdown",
   "metadata": {},
   "source": [
    "We now wants to use another signal decomposition which are called wavelet. Wavelet are a multi-scale function decomposition on a familly of functions generated from what is called a mother wavelet.\n",
    "\n",
    "Using PyWavelet make a function get_wavelet_coefficients(ecg) that returns the wavelet coefficient of a given ECG\n"
   ]
  },
  {
   "cell_type": "code",
   "execution_count": null,
   "metadata": {
    "id": "XW8x9kHJOAk2"
   },
   "outputs": [],
   "source": [
    "def get_wavelet_coefficients(ecg, wavelet='db4', level=4):\n",
    "    coeffs = pywt.wavedec(ecg, wavelet=wavelet, level=level)\n",
    "    wavelet_features = np.hstack(coeffs)\n",
    "    return wavelet_features"
   ]
  },
  {
   "cell_type": "markdown",
   "metadata": {
    "id": "FTCCNTinOAk3"
   },
   "source": [
    "Using the get_wavelet_coefficients, create a dataframe when the features are the coefficients and include the label"
   ]
  },
  {
   "cell_type": "code",
   "execution_count": 52,
   "metadata": {},
   "outputs": [
    {
     "name": "stderr",
     "output_type": "stream",
     "text": [
      "/var/folders/_t/_09rqyyj0v3g_c9sgq8sp4k40000gn/T/ipykernel_1950/4209439223.py:1: DtypeWarning: Columns (0) have mixed types. Specify dtype option on import or set low_memory=False.\n",
      "  df = pd.read_csv('ECG-laurent.csv')\n"
     ]
    },
    {
     "data": {
      "text/html": [
       "<div>\n",
       "<style scoped>\n",
       "    .dataframe tbody tr th:only-of-type {\n",
       "        vertical-align: middle;\n",
       "    }\n",
       "\n",
       "    .dataframe tbody tr th {\n",
       "        vertical-align: top;\n",
       "    }\n",
       "\n",
       "    .dataframe thead th {\n",
       "        text-align: right;\n",
       "    }\n",
       "</style>\n",
       "<table border=\"1\" class=\"dataframe\">\n",
       "  <thead>\n",
       "    <tr style=\"text-align: right;\">\n",
       "      <th></th>\n",
       "      <th>0</th>\n",
       "      <th>1</th>\n",
       "      <th>2</th>\n",
       "      <th>3</th>\n",
       "      <th>4</th>\n",
       "      <th>5</th>\n",
       "      <th>6</th>\n",
       "      <th>7</th>\n",
       "      <th>8</th>\n",
       "      <th>9</th>\n",
       "      <th>...</th>\n",
       "      <th>65553</th>\n",
       "      <th>65554</th>\n",
       "      <th>65555</th>\n",
       "      <th>65556</th>\n",
       "      <th>65557</th>\n",
       "      <th>65558</th>\n",
       "      <th>65559</th>\n",
       "      <th>65560</th>\n",
       "      <th>65561</th>\n",
       "      <th>label</th>\n",
       "    </tr>\n",
       "  </thead>\n",
       "  <tbody>\n",
       "    <tr>\n",
       "      <th>0</th>\n",
       "      <td>-0.228740</td>\n",
       "      <td>-0.190008</td>\n",
       "      <td>-0.179619</td>\n",
       "      <td>-0.226580</td>\n",
       "      <td>-0.031340</td>\n",
       "      <td>-1.018605</td>\n",
       "      <td>-0.444753</td>\n",
       "      <td>-2.368966</td>\n",
       "      <td>-1.634749</td>\n",
       "      <td>-0.977731</td>\n",
       "      <td>...</td>\n",
       "      <td>0.020990</td>\n",
       "      <td>-0.037387</td>\n",
       "      <td>0.028253</td>\n",
       "      <td>0.002237</td>\n",
       "      <td>-0.000266</td>\n",
       "      <td>-0.028554</td>\n",
       "      <td>0.014615</td>\n",
       "      <td>0.031316</td>\n",
       "      <td>-0.027797</td>\n",
       "      <td>1</td>\n",
       "    </tr>\n",
       "    <tr>\n",
       "      <th>1</th>\n",
       "      <td>-2.284291</td>\n",
       "      <td>-2.311781</td>\n",
       "      <td>-2.299607</td>\n",
       "      <td>-2.283637</td>\n",
       "      <td>-2.467491</td>\n",
       "      <td>-1.493960</td>\n",
       "      <td>-3.442873</td>\n",
       "      <td>-4.733150</td>\n",
       "      <td>-1.800736</td>\n",
       "      <td>-0.455900</td>\n",
       "      <td>...</td>\n",
       "      <td>0.016427</td>\n",
       "      <td>0.000257</td>\n",
       "      <td>-0.018340</td>\n",
       "      <td>-0.019976</td>\n",
       "      <td>0.006214</td>\n",
       "      <td>-0.063029</td>\n",
       "      <td>0.020517</td>\n",
       "      <td>0.055184</td>\n",
       "      <td>-0.012997</td>\n",
       "      <td>1</td>\n",
       "    </tr>\n",
       "    <tr>\n",
       "      <th>2</th>\n",
       "      <td>-0.821863</td>\n",
       "      <td>-0.796012</td>\n",
       "      <td>-0.774485</td>\n",
       "      <td>-0.775475</td>\n",
       "      <td>-0.978186</td>\n",
       "      <td>-0.179384</td>\n",
       "      <td>-0.315090</td>\n",
       "      <td>-1.138809</td>\n",
       "      <td>-0.368271</td>\n",
       "      <td>0.456424</td>\n",
       "      <td>...</td>\n",
       "      <td>-0.109406</td>\n",
       "      <td>0.154508</td>\n",
       "      <td>0.025962</td>\n",
       "      <td>-0.032860</td>\n",
       "      <td>0.056736</td>\n",
       "      <td>-0.031413</td>\n",
       "      <td>0.009088</td>\n",
       "      <td>0.012298</td>\n",
       "      <td>-0.058915</td>\n",
       "      <td>1</td>\n",
       "    </tr>\n",
       "    <tr>\n",
       "      <th>3</th>\n",
       "      <td>0.348926</td>\n",
       "      <td>0.375198</td>\n",
       "      <td>0.371578</td>\n",
       "      <td>0.332356</td>\n",
       "      <td>0.535287</td>\n",
       "      <td>-0.082380</td>\n",
       "      <td>2.922918</td>\n",
       "      <td>0.238627</td>\n",
       "      <td>0.597085</td>\n",
       "      <td>1.542039</td>\n",
       "      <td>...</td>\n",
       "      <td>0.037289</td>\n",
       "      <td>0.045591</td>\n",
       "      <td>0.031034</td>\n",
       "      <td>0.009156</td>\n",
       "      <td>-0.016872</td>\n",
       "      <td>0.045184</td>\n",
       "      <td>-0.008458</td>\n",
       "      <td>-0.029453</td>\n",
       "      <td>0.015599</td>\n",
       "      <td>1</td>\n",
       "    </tr>\n",
       "    <tr>\n",
       "      <th>4</th>\n",
       "      <td>-1.643063</td>\n",
       "      <td>-1.666765</td>\n",
       "      <td>-1.676780</td>\n",
       "      <td>-1.630421</td>\n",
       "      <td>-1.849698</td>\n",
       "      <td>-0.928686</td>\n",
       "      <td>0.243894</td>\n",
       "      <td>-1.045281</td>\n",
       "      <td>-0.736337</td>\n",
       "      <td>-0.233167</td>\n",
       "      <td>...</td>\n",
       "      <td>0.263982</td>\n",
       "      <td>-0.425948</td>\n",
       "      <td>0.128538</td>\n",
       "      <td>-0.049629</td>\n",
       "      <td>-0.076230</td>\n",
       "      <td>-0.007552</td>\n",
       "      <td>-0.001764</td>\n",
       "      <td>0.022396</td>\n",
       "      <td>0.089177</td>\n",
       "      <td>1</td>\n",
       "    </tr>\n",
       "    <tr>\n",
       "      <th>...</th>\n",
       "      <td>...</td>\n",
       "      <td>...</td>\n",
       "      <td>...</td>\n",
       "      <td>...</td>\n",
       "      <td>...</td>\n",
       "      <td>...</td>\n",
       "      <td>...</td>\n",
       "      <td>...</td>\n",
       "      <td>...</td>\n",
       "      <td>...</td>\n",
       "      <td>...</td>\n",
       "      <td>...</td>\n",
       "      <td>...</td>\n",
       "      <td>...</td>\n",
       "      <td>...</td>\n",
       "      <td>...</td>\n",
       "      <td>...</td>\n",
       "      <td>...</td>\n",
       "      <td>...</td>\n",
       "      <td>...</td>\n",
       "      <td>...</td>\n",
       "    </tr>\n",
       "    <tr>\n",
       "      <th>157</th>\n",
       "      <td>-1.256411</td>\n",
       "      <td>-1.176086</td>\n",
       "      <td>-1.000601</td>\n",
       "      <td>-1.271352</td>\n",
       "      <td>-0.768256</td>\n",
       "      <td>-2.578013</td>\n",
       "      <td>0.597282</td>\n",
       "      <td>0.373866</td>\n",
       "      <td>0.595444</td>\n",
       "      <td>-1.932390</td>\n",
       "      <td>...</td>\n",
       "      <td>0.007585</td>\n",
       "      <td>-0.010335</td>\n",
       "      <td>0.009463</td>\n",
       "      <td>0.001435</td>\n",
       "      <td>0.001654</td>\n",
       "      <td>0.022055</td>\n",
       "      <td>-0.007558</td>\n",
       "      <td>-0.020769</td>\n",
       "      <td>0.006174</td>\n",
       "      <td>2</td>\n",
       "    </tr>\n",
       "    <tr>\n",
       "      <th>158</th>\n",
       "      <td>-1.547153</td>\n",
       "      <td>-1.558670</td>\n",
       "      <td>-1.539930</td>\n",
       "      <td>-1.546184</td>\n",
       "      <td>-1.587573</td>\n",
       "      <td>-1.424208</td>\n",
       "      <td>-1.299591</td>\n",
       "      <td>-1.291218</td>\n",
       "      <td>-1.166278</td>\n",
       "      <td>-1.821944</td>\n",
       "      <td>...</td>\n",
       "      <td>0.007847</td>\n",
       "      <td>-0.012782</td>\n",
       "      <td>-0.000983</td>\n",
       "      <td>-0.008603</td>\n",
       "      <td>-0.008715</td>\n",
       "      <td>-0.017159</td>\n",
       "      <td>0.005511</td>\n",
       "      <td>0.017860</td>\n",
       "      <td>0.006525</td>\n",
       "      <td>2</td>\n",
       "    </tr>\n",
       "    <tr>\n",
       "      <th>159</th>\n",
       "      <td>-0.365921</td>\n",
       "      <td>-0.357162</td>\n",
       "      <td>-0.362281</td>\n",
       "      <td>-0.369334</td>\n",
       "      <td>-0.313935</td>\n",
       "      <td>-0.525250</td>\n",
       "      <td>-0.576419</td>\n",
       "      <td>-0.590355</td>\n",
       "      <td>-0.647901</td>\n",
       "      <td>-0.987933</td>\n",
       "      <td>...</td>\n",
       "      <td>0.000326</td>\n",
       "      <td>0.000340</td>\n",
       "      <td>0.011216</td>\n",
       "      <td>0.009061</td>\n",
       "      <td>0.001568</td>\n",
       "      <td>0.008229</td>\n",
       "      <td>-0.002588</td>\n",
       "      <td>-0.008707</td>\n",
       "      <td>-0.001065</td>\n",
       "      <td>2</td>\n",
       "    </tr>\n",
       "    <tr>\n",
       "      <th>160</th>\n",
       "      <td>0.731175</td>\n",
       "      <td>0.785912</td>\n",
       "      <td>0.819470</td>\n",
       "      <td>0.593377</td>\n",
       "      <td>1.540172</td>\n",
       "      <td>-1.551643</td>\n",
       "      <td>-0.743050</td>\n",
       "      <td>-3.033243</td>\n",
       "      <td>-1.141369</td>\n",
       "      <td>-0.903578</td>\n",
       "      <td>...</td>\n",
       "      <td>0.016191</td>\n",
       "      <td>0.002240</td>\n",
       "      <td>0.005429</td>\n",
       "      <td>0.021204</td>\n",
       "      <td>0.028493</td>\n",
       "      <td>0.039656</td>\n",
       "      <td>-0.012011</td>\n",
       "      <td>-0.042655</td>\n",
       "      <td>-0.025372</td>\n",
       "      <td>2</td>\n",
       "    </tr>\n",
       "    <tr>\n",
       "      <th>161</th>\n",
       "      <td>0.690330</td>\n",
       "      <td>0.747722</td>\n",
       "      <td>0.748915</td>\n",
       "      <td>0.634233</td>\n",
       "      <td>1.083086</td>\n",
       "      <td>-0.216203</td>\n",
       "      <td>-2.680500</td>\n",
       "      <td>-1.776808</td>\n",
       "      <td>-0.004091</td>\n",
       "      <td>0.030515</td>\n",
       "      <td>...</td>\n",
       "      <td>0.000801</td>\n",
       "      <td>0.009888</td>\n",
       "      <td>0.001010</td>\n",
       "      <td>0.038516</td>\n",
       "      <td>0.006706</td>\n",
       "      <td>0.002083</td>\n",
       "      <td>-0.000744</td>\n",
       "      <td>0.001390</td>\n",
       "      <td>-0.027506</td>\n",
       "      <td>2</td>\n",
       "    </tr>\n",
       "  </tbody>\n",
       "</table>\n",
       "<p>162 rows × 65563 columns</p>\n",
       "</div>"
      ],
      "text/plain": [
       "            0         1         2         3         4         5         6  \\\n",
       "0   -0.228740 -0.190008 -0.179619 -0.226580 -0.031340 -1.018605 -0.444753   \n",
       "1   -2.284291 -2.311781 -2.299607 -2.283637 -2.467491 -1.493960 -3.442873   \n",
       "2   -0.821863 -0.796012 -0.774485 -0.775475 -0.978186 -0.179384 -0.315090   \n",
       "3    0.348926  0.375198  0.371578  0.332356  0.535287 -0.082380  2.922918   \n",
       "4   -1.643063 -1.666765 -1.676780 -1.630421 -1.849698 -0.928686  0.243894   \n",
       "..        ...       ...       ...       ...       ...       ...       ...   \n",
       "157 -1.256411 -1.176086 -1.000601 -1.271352 -0.768256 -2.578013  0.597282   \n",
       "158 -1.547153 -1.558670 -1.539930 -1.546184 -1.587573 -1.424208 -1.299591   \n",
       "159 -0.365921 -0.357162 -0.362281 -0.369334 -0.313935 -0.525250 -0.576419   \n",
       "160  0.731175  0.785912  0.819470  0.593377  1.540172 -1.551643 -0.743050   \n",
       "161  0.690330  0.747722  0.748915  0.634233  1.083086 -0.216203 -2.680500   \n",
       "\n",
       "            7         8         9  ...     65553     65554     65555  \\\n",
       "0   -2.368966 -1.634749 -0.977731  ...  0.020990 -0.037387  0.028253   \n",
       "1   -4.733150 -1.800736 -0.455900  ...  0.016427  0.000257 -0.018340   \n",
       "2   -1.138809 -0.368271  0.456424  ... -0.109406  0.154508  0.025962   \n",
       "3    0.238627  0.597085  1.542039  ...  0.037289  0.045591  0.031034   \n",
       "4   -1.045281 -0.736337 -0.233167  ...  0.263982 -0.425948  0.128538   \n",
       "..        ...       ...       ...  ...       ...       ...       ...   \n",
       "157  0.373866  0.595444 -1.932390  ...  0.007585 -0.010335  0.009463   \n",
       "158 -1.291218 -1.166278 -1.821944  ...  0.007847 -0.012782 -0.000983   \n",
       "159 -0.590355 -0.647901 -0.987933  ...  0.000326  0.000340  0.011216   \n",
       "160 -3.033243 -1.141369 -0.903578  ...  0.016191  0.002240  0.005429   \n",
       "161 -1.776808 -0.004091  0.030515  ...  0.000801  0.009888  0.001010   \n",
       "\n",
       "        65556     65557     65558     65559     65560     65561  label  \n",
       "0    0.002237 -0.000266 -0.028554  0.014615  0.031316 -0.027797      1  \n",
       "1   -0.019976  0.006214 -0.063029  0.020517  0.055184 -0.012997      1  \n",
       "2   -0.032860  0.056736 -0.031413  0.009088  0.012298 -0.058915      1  \n",
       "3    0.009156 -0.016872  0.045184 -0.008458 -0.029453  0.015599      1  \n",
       "4   -0.049629 -0.076230 -0.007552 -0.001764  0.022396  0.089177      1  \n",
       "..        ...       ...       ...       ...       ...       ...    ...  \n",
       "157  0.001435  0.001654  0.022055 -0.007558 -0.020769  0.006174      2  \n",
       "158 -0.008603 -0.008715 -0.017159  0.005511  0.017860  0.006525      2  \n",
       "159  0.009061  0.001568  0.008229 -0.002588 -0.008707 -0.001065      2  \n",
       "160  0.021204  0.028493  0.039656 -0.012011 -0.042655 -0.025372      2  \n",
       "161  0.038516  0.006706  0.002083 -0.000744  0.001390 -0.027506      2  \n",
       "\n",
       "[162 rows x 65563 columns]"
      ]
     },
     "execution_count": 52,
     "metadata": {},
     "output_type": "execute_result"
    }
   ],
   "source": [
    "df = pd.read_csv('ECG-laurent.csv')\n",
    "\n",
    "datas = df.iloc[:, 2:].to_numpy()\n",
    "labels = df.iloc[:, 1]\n",
    "\n",
    "wavelet_features = [get_wavelet_coefficients(ecg, wavelet='db4', level=4) for ecg in datas]\n",
    "\n",
    "df_wavelet = pd.DataFrame(wavelet_features)\n",
    "\n",
    "df_wavelet['label'] = labels.values\n",
    "df_wavelet"
   ]
  },
  {
   "cell_type": "markdown",
   "metadata": {
    "id": "3oHiL5a-ROgR"
   },
   "source": [
    "Train a random forest classifier with such features. DOes the model work"
   ]
  },
  {
   "cell_type": "code",
   "execution_count": 54,
   "metadata": {
    "id": "LTXayPGBOAk4"
   },
   "outputs": [
    {
     "name": "stdout",
     "output_type": "stream",
     "text": [
      "Accuracy Wavelet Features: 0.64\n"
     ]
    }
   ],
   "source": [
    "X_wavelet = df_wavelet.drop(columns=['label'])\n",
    "y_wavelet = df_wavelet['label']\n",
    "\n",
    "X_train, X_test, y_train, y_test = train_test_split(X_wavelet, y_wavelet, test_size=0.2, random_state=42)\n",
    "\n",
    "clf = RandomForestClassifier(n_estimators=100, random_state=42)\n",
    "clf.fit(X_train, y_train)\n",
    "\n",
    "y_pred = clf.predict(X_test)\n",
    "accuracy = accuracy_score(y_test, y_pred)\n",
    "\n",
    "print(f\"Accuracy Wavelet Features: {accuracy:.2f}\")"
   ]
  },
  {
   "cell_type": "markdown",
   "metadata": {
    "id": "aOBmMfHtZHyK"
   },
   "source": [
    "Add one or several of the previous feature functions and try to train another model"
   ]
  },
  {
   "cell_type": "code",
   "execution_count": 63,
   "metadata": {
    "id": "Jv2JOjKqZG45"
   },
   "outputs": [
    {
     "name": "stdout",
     "output_type": "stream",
     "text": [
      "Accuracy using Wavelet, Fourier, Statistical: 0.61\n"
     ]
    }
   ],
   "source": [
    "df_fourier_combined = pd.DataFrame(fourier_features)\n",
    "\n",
    "X_combined = pd.concat([X_feature, df_fourier_combined, df_wavelet.drop(columns=['label'])], axis=1)\n",
    "y_combined = y\n",
    "\n",
    "X_train, X_test, y_train, y_test = train_test_split(X_combined, y_combined, test_size=0.2, random_state=42)\n",
    "\n",
    "clf = RandomForestClassifier(n_estimators=100, random_state=42)\n",
    "clf.fit(X_train, y_train)\n",
    "\n",
    "y_pred = clf.predict(X_test)\n",
    "accuracy = accuracy_score(y_test, y_pred)\n",
    "\n",
    "print(f\"Accuracy using Wavelet, Fourier, Statistical: {accuracy:.2f}\")"
   ]
  },
  {
   "cell_type": "markdown",
   "metadata": {
    "id": "ox_RU4iVZRw6"
   },
   "source": [
    "Specify the methodology you used to train the model and report the various attempts results into a table"
   ]
  },
  {
   "cell_type": "code",
   "execution_count": 65,
   "metadata": {},
   "outputs": [
    {
     "name": "stderr",
     "output_type": "stream",
     "text": [
      "/var/folders/_t/_09rqyyj0v3g_c9sgq8sp4k40000gn/T/ipykernel_1950/739754870.py:1: DtypeWarning: Columns (0) have mixed types. Specify dtype option on import or set low_memory=False.\n",
      "  df = pd.read_csv('ECG-laurent.csv')\n"
     ]
    },
    {
     "data": {
      "text/html": [
       "<div>\n",
       "<style scoped>\n",
       "    .dataframe tbody tr th:only-of-type {\n",
       "        vertical-align: middle;\n",
       "    }\n",
       "\n",
       "    .dataframe tbody tr th {\n",
       "        vertical-align: top;\n",
       "    }\n",
       "\n",
       "    .dataframe thead th {\n",
       "        text-align: right;\n",
       "    }\n",
       "</style>\n",
       "<table border=\"1\" class=\"dataframe\">\n",
       "  <thead>\n",
       "    <tr style=\"text-align: right;\">\n",
       "      <th></th>\n",
       "      <th>Experiment</th>\n",
       "      <th>Accuracy</th>\n",
       "    </tr>\n",
       "  </thead>\n",
       "  <tbody>\n",
       "    <tr>\n",
       "      <th>0</th>\n",
       "      <td>Wavelet only</td>\n",
       "      <td>0.636364</td>\n",
       "    </tr>\n",
       "    <tr>\n",
       "      <th>1</th>\n",
       "      <td>Fourier only</td>\n",
       "      <td>0.787879</td>\n",
       "    </tr>\n",
       "    <tr>\n",
       "      <th>2</th>\n",
       "      <td>Statistical only</td>\n",
       "      <td>0.878788</td>\n",
       "    </tr>\n",
       "    <tr>\n",
       "      <th>3</th>\n",
       "      <td>Wavelet + Fourier</td>\n",
       "      <td>0.575758</td>\n",
       "    </tr>\n",
       "    <tr>\n",
       "      <th>4</th>\n",
       "      <td>Wavelet + Statistical</td>\n",
       "      <td>0.575758</td>\n",
       "    </tr>\n",
       "    <tr>\n",
       "      <th>5</th>\n",
       "      <td>Wavelet + Fourier + Statistical</td>\n",
       "      <td>0.606061</td>\n",
       "    </tr>\n",
       "  </tbody>\n",
       "</table>\n",
       "</div>"
      ],
      "text/plain": [
       "                        Experiment  Accuracy\n",
       "0                     Wavelet only  0.636364\n",
       "1                     Fourier only  0.787879\n",
       "2                 Statistical only  0.878788\n",
       "3                Wavelet + Fourier  0.575758\n",
       "4            Wavelet + Statistical  0.575758\n",
       "5  Wavelet + Fourier + Statistical  0.606061"
      ]
     },
     "execution_count": 65,
     "metadata": {},
     "output_type": "execute_result"
    }
   ],
   "source": [
    "df = pd.read_csv('ECG-laurent.csv')\n",
    "\n",
    "datas = df.iloc[:, 2:].to_numpy()\n",
    "y = df.iloc[:, 1]\n",
    "\n",
    "def train_and_evaluate(X_features, y_labels):\n",
    "    X_train, X_test, y_train, y_test = train_test_split(X_features, y_labels, test_size=0.2, random_state=42)\n",
    "    clf = RandomForestClassifier(n_estimators=100, random_state=42)\n",
    "    clf.fit(X_train, y_train)\n",
    "    y_pred = clf.predict(X_test)\n",
    "    accuracy = accuracy_score(y_test, y_pred)\n",
    "    return accuracy\n",
    "\n",
    "X_wavelet = df_wavelet.drop(columns=['label'])\n",
    "y_wavelet = y\n",
    "accuracy_wavelet = train_and_evaluate(X_wavelet, y_wavelet)\n",
    "\n",
    "X_fourier = df_fourier_combined\n",
    "y_fourier = y\n",
    "accuracy_fourier = train_and_evaluate(X_fourier, y_fourier)\n",
    "\n",
    "X_statistical = X_feature\n",
    "y_statistical = y\n",
    "accuracy_statistical = train_and_evaluate(X_statistical, y_statistical)\n",
    "\n",
    "X_combined_fourier_wavelet = pd.concat([df_wavelet.drop(columns=['label']), df_fourier_combined], axis=1)\n",
    "accuracy_combined_fourier_wavelet = train_and_evaluate(X_combined_fourier_wavelet, y_combined)\n",
    "\n",
    "X_combined_wavelet_statistical = pd.concat([df_wavelet.drop(columns=['label']), X_feature], axis=1)\n",
    "accuracy_combined_wavelet_statistical = train_and_evaluate(X_combined_wavelet_statistical, y_combined)\n",
    "\n",
    "X_combined = pd.concat([X_feature, df_fourier_combined, df_wavelet.drop(columns=['label'])], axis=1)\n",
    "accuracy_combined_all = train_and_evaluate(X_combined, y_combined)\n",
    "\n",
    "results = pd.DataFrame({\n",
    "    'Experiment': [\n",
    "        'Wavelet only',\n",
    "        'Fourier only',\n",
    "        'Statistical only',\n",
    "        'Wavelet + Fourier',\n",
    "        'Wavelet + Statistical',\n",
    "        'Wavelet + Fourier + Statistical'\n",
    "    ],\n",
    "    'Accuracy': [\n",
    "        accuracy_wavelet,\n",
    "        accuracy_fourier,\n",
    "        accuracy_statistical,\n",
    "        accuracy_combined_fourier_wavelet,\n",
    "        accuracy_combined_wavelet_statistical,\n",
    "        accuracy_combined_all\n",
    "    ]\n",
    "})\n",
    "\n",
    "results"
   ]
  },
  {
   "cell_type": "markdown",
   "metadata": {
    "id": "AL5aD-ckRnbw"
   },
   "source": [
    "## Deep learning (1D CNN)"
   ]
  },
  {
   "cell_type": "markdown",
   "metadata": {
    "id": "Jo0FE1soOAk4"
   },
   "source": [
    "Now we want to see if we can skip all theses feature engineering techniques !\n",
    "Design and train a multi-layer one dimensional CNN using the raw ECG signal as features.\n",
    "\n",
    "\n",
    "Could you reach or surpass the feature based models ?"
   ]
  },
  {
   "cell_type": "code",
   "execution_count": null,
   "metadata": {
    "id": "R55iLcpBRNF_"
   },
   "outputs": [
    {
     "name": "stderr",
     "output_type": "stream",
     "text": [
      "/var/folders/_t/_09rqyyj0v3g_c9sgq8sp4k40000gn/T/ipykernel_1950/3448007457.py:1: DtypeWarning: Columns (0) have mixed types. Specify dtype option on import or set low_memory=False.\n",
      "  df = pd.read_csv('ECG-laurent.csv')\n"
     ]
    }
   ],
   "source": [
    "df = pd.read_csv('ECG-laurent.csv')\n",
    "\n",
    "X = df.iloc[:, 2:].to_numpy()\n",
    "y = df.iloc[:, 1].to_numpy()\n",
    "\n",
    "X = X[..., np.newaxis]\n",
    "\n",
    "scaler = StandardScaler()\n",
    "X = scaler.fit_transform(X.reshape(-1, X.shape[-1])).reshape(X.shape)\n",
    "\n",
    "X_train, X_test, y_train, y_test = train_test_split(X, y, test_size=0.2, random_state=42)"
   ]
  },
  {
   "cell_type": "code",
   "execution_count": 77,
   "metadata": {},
   "outputs": [],
   "source": [
    "def create_cnn_model(input_shape):\n",
    "    model = models.Sequential()\n",
    "    \n",
    "    model.add(layers.Conv1D(16, 3, activation='relu', input_shape=input_shape))\n",
    "    model.add(layers.MaxPooling1D(2))\n",
    "    \n",
    "    model.add(layers.Conv1D(32, 3, activation='relu'))\n",
    "    model.add(layers.MaxPooling1D(2))\n",
    "    \n",
    "    model.add(layers.Flatten())\n",
    "    \n",
    "    model.add(layers.Dense(32, activation='relu'))\n",
    "    \n",
    "    model.add(layers.Dense(len(np.unique(y)), activation='softmax'))\n",
    "    \n",
    "    return model"
   ]
  },
  {
   "cell_type": "code",
   "execution_count": 86,
   "metadata": {},
   "outputs": [
    {
     "name": "stdout",
     "output_type": "stream",
     "text": [
      "Epoch 1/10\n",
      "9/9 [==============================] - ETA: 0s - loss: 11.1595 - accuracy: 0.4651WARNING:tensorflow:5 out of the last 40 calls to <function Model.make_test_function.<locals>.test_function at 0x15497d7e0> triggered tf.function retracing. Tracing is expensive and the excessive number of tracings could be due to (1) creating @tf.function repeatedly in a loop, (2) passing tensors with different shapes, (3) passing Python objects instead of tensors. For (1), please define your @tf.function outside of the loop. For (2), @tf.function has reduce_retracing=True option that can avoid unnecessary retracing. For (3), please refer to https://www.tensorflow.org/guide/function#controlling_retracing and https://www.tensorflow.org/api_docs/python/tf/function for  more details.\n",
      "9/9 [==============================] - 6s 542ms/step - loss: 11.1595 - accuracy: 0.4651 - val_loss: 4.9303 - val_accuracy: 0.5758\n",
      "Epoch 2/10\n",
      "9/9 [==============================] - 5s 498ms/step - loss: 1.5759 - accuracy: 0.7829 - val_loss: 1.0655 - val_accuracy: 0.6364\n",
      "Epoch 3/10\n",
      "9/9 [==============================] - 5s 497ms/step - loss: 0.4270 - accuracy: 0.8527 - val_loss: 0.5572 - val_accuracy: 0.7879\n",
      "Epoch 4/10\n",
      "9/9 [==============================] - 5s 506ms/step - loss: 0.2816 - accuracy: 0.9302 - val_loss: 1.2917 - val_accuracy: 0.7273\n",
      "Epoch 5/10\n",
      "9/9 [==============================] - 5s 502ms/step - loss: 0.1429 - accuracy: 0.9535 - val_loss: 0.9137 - val_accuracy: 0.7879\n",
      "Epoch 6/10\n",
      "9/9 [==============================] - 5s 498ms/step - loss: 0.0482 - accuracy: 0.9922 - val_loss: 0.8319 - val_accuracy: 0.7576\n",
      "Epoch 7/10\n",
      "9/9 [==============================] - 5s 502ms/step - loss: 0.0154 - accuracy: 1.0000 - val_loss: 0.9446 - val_accuracy: 0.7879\n",
      "Epoch 8/10\n",
      "9/9 [==============================] - 5s 504ms/step - loss: 0.0302 - accuracy: 0.9845 - val_loss: 1.0149 - val_accuracy: 0.7879\n",
      "Epoch 9/10\n",
      "9/9 [==============================] - 5s 511ms/step - loss: 0.0296 - accuracy: 0.9845 - val_loss: 0.9307 - val_accuracy: 0.7879\n",
      "Epoch 10/10\n",
      "9/9 [==============================] - 5s 509ms/step - loss: 0.0164 - accuracy: 1.0000 - val_loss: 0.8170 - val_accuracy: 0.7879\n"
     ]
    }
   ],
   "source": [
    "model = create_cnn_model(X_train.shape[1:])\n",
    "\n",
    "model.compile(optimizer='adam', loss='sparse_categorical_crossentropy', metrics=['accuracy'])\n",
    "\n",
    "history = model.fit(X_train, y_train, epochs=10, batch_size=16, validation_data=(X_test, y_test))"
   ]
  },
  {
   "cell_type": "code",
   "execution_count": 87,
   "metadata": {},
   "outputs": [
    {
     "name": "stdout",
     "output_type": "stream",
     "text": [
      "2/2 [==============================] - 0s 33ms/step - loss: 0.8170 - accuracy: 0.7879\n",
      "Test Accuracy: 0.79\n"
     ]
    },
    {
     "data": {
      "image/png": "[encoded data removed]",
      "text/plain": [
       "<Figure size 640x480 with 1 Axes>"
      ]
     },
     "metadata": {},
     "output_type": "display_data"
    }
   ],
   "source": [
    "test_loss, test_accuracy = model.evaluate(X_test, y_test)\n",
    "print(f\"Test Accuracy: {test_accuracy:.2f}\")\n",
    "\n",
    "\n",
    "plt.plot(history.history['accuracy'], label='Train Accuracy')\n",
    "plt.plot(history.history['val_accuracy'], label='Test Accuracy')\n",
    "plt.xlabel('Epochs')\n",
    "plt.ylabel('Accuracy')\n",
    "plt.legend()\n",
    "plt.title('Training and Validation Accuracy')\n",
    "plt.show()"
   ]
  }
 ],
 "metadata": {
  "colab": {
   "provenance": []
  },
  "kernelspec": {
   "display_name": "Python 3",
   "language": "python",
   "name": "python3"
  },
  "language_info": {
   "codemirror_mode": {
    "name": "ipython",
    "version": 3
   },
   "file_extension": ".py",
   "mimetype": "text/x-python",
   "name": "python",
   "nbconvert_exporter": "python",
   "pygments_lexer": "ipython3",
   "version": "3.10.11"
  }
 },
 "nbformat": 4,
 "nbformat_minor": 0
}
