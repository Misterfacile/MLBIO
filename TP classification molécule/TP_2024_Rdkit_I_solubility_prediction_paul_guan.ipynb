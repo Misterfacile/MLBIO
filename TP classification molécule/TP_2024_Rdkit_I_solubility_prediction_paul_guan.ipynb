{
  "cells": [
    {
      "cell_type": "markdown",
      "metadata": {
        "cell_id": "16c54816-8eaa-4419-a3c6-0b518d48920d",
        "deepnote_cell_height": 133.60000610351562,
        "deepnote_cell_type": "markdown",
        "id": "I5zRwy5bwUwz"
      },
      "source": [
        "# Machine learning to predict molecule properties : solubility\n",
        "\n"
      ]
    },
    {
      "cell_type": "markdown",
      "metadata": {
        "cell_id": "00001-49762d77-783f-4373-acbd-16a323a21fb1",
        "deepnote_cell_height": 206,
        "deepnote_cell_type": "markdown",
        "id": "eVwVRfWjwUw3"
      },
      "source": [
        "Laurent Cetinsoy\n",
        "\n",
        "The solubility of molecules is an important property in many applications like for drug selection or for compound selection for battery designes (no link to health).\n",
        "\n",
        "Being able to predict the solubility of a molecule from its formula instead of having to make measuring experiment in an important aspect to enhanced fatester molecule discovery.\n",
        "\n",
        "In this notebook we will do basic solubility prediction with machine learning models and rdkit\n"
      ]
    },
    {
      "cell_type": "markdown",
      "metadata": {
        "cell_id": "00002-a8756790-b108-40d2-a92f-8b05e49e6c30",
        "deepnote_cell_height": 88.39999389648438,
        "deepnote_cell_type": "markdown",
        "id": "QAEEPr0RwUw4"
      },
      "source": [
        "Install the python rdkit package with pip or conda\n",
        "\n",
        "cf https://www.rdkit.org/docs/index.html\n",
        "\n",
        "References :\n",
        "\n",
        "- https://www.rdkit.org/docs/GettingStartedInPython.html\n",
        "- https://www.rdkit.org/docs/Cookbook.html\n",
        "\n"
      ]
    },
    {
      "cell_type": "code",
      "source": [
        "!pip install rdkit"
      ],
      "metadata": {
        "id": "Wxa4YTjesUir",
        "colab": {
          "base_uri": "https://localhost:8080/"
        },
        "outputId": "026c9840-b5ec-4e58-815b-ba51c4fb8bf6"
      },
      "execution_count": 1,
      "outputs": [
        {
          "output_type": "stream",
          "name": "stdout",
          "text": [
            "Collecting rdkit\n",
            "  Downloading rdkit-2024.3.6-cp310-cp310-manylinux_2_28_x86_64.whl.metadata (4.0 kB)\n",
            "Requirement already satisfied: numpy in /usr/local/lib/python3.10/dist-packages (from rdkit) (1.26.4)\n",
            "Requirement already satisfied: Pillow in /usr/local/lib/python3.10/dist-packages (from rdkit) (11.0.0)\n",
            "Downloading rdkit-2024.3.6-cp310-cp310-manylinux_2_28_x86_64.whl (32.8 MB)\n",
            "\u001b[2K   \u001b[90m━━━━━━━━━━━━━━━━━━━━━━━━━━━━━━━━━━━━━━━━\u001b[0m \u001b[32m32.8/32.8 MB\u001b[0m \u001b[31m12.5 MB/s\u001b[0m eta \u001b[36m0:00:00\u001b[0m\n",
            "\u001b[?25hInstalling collected packages: rdkit\n",
            "Successfully installed rdkit-2024.3.6\n"
          ]
        }
      ]
    },
    {
      "cell_type": "code",
      "source": [
        "import rdkit\n",
        "import pandas as pd\n",
        "import numpy as np\n",
        "import matplotlib.pyplot as plt\n",
        "\n",
        "from rdkit import Chem\n",
        "from rdkit.ML.Descriptors.MoleculeDescriptors import MolecularDescriptorCalculator\n",
        "from rdkit.Chem import AllChem\n",
        "from rdkit.Chem import DataStructs\n",
        "from rdkit.Chem import Descriptors\n",
        "\n",
        "from sklearn.preprocessing import MinMaxScaler\n",
        "from sklearn.model_selection import train_test_split\n",
        "from sklearn.linear_model import LinearRegression\n",
        "from sklearn.metrics import mean_squared_error\n",
        "from sklearn.model_selection import cross_val_score"
      ],
      "metadata": {
        "id": "7EK3hU_zsfWe"
      },
      "execution_count": 15,
      "outputs": []
    },
    {
      "cell_type": "markdown",
      "metadata": {
        "cell_id": "00004-6254cb0b-9327-466e-ba64-cb12e70f4314",
        "deepnote_cell_height": 81.60000610351562,
        "deepnote_cell_type": "markdown",
        "id": "VIreJisSwUw5"
      },
      "source": [
        "# Atom and Molecule representations with Rdkit"
      ]
    },
    {
      "cell_type": "markdown",
      "metadata": {
        "cell_id": "00005-f0885d44-707b-458e-84a9-5807d29a3394",
        "deepnote_cell_height": 88.39999389648438,
        "deepnote_cell_type": "markdown",
        "id": "sRw7zxXlwUw5"
      },
      "source": [
        "Rdkit is a package allowing to work with molecule data and their representation. It is very useful to gather information about atom and molecules. Especially about their physical and chemical properties. In this notebook we will learn about them\n",
        "\n",
        "For basic manipulations, the main submodule is **Chem**\n",
        "\n"
      ]
    },
    {
      "cell_type": "markdown",
      "metadata": {
        "cell_id": "00006-b6601403-90a3-4561-bf59-2fed80399f86",
        "deepnote_cell_height": 100,
        "deepnote_cell_type": "markdown",
        "id": "TYs-WClCqSsy"
      },
      "source": [
        "### Smile representation\n",
        "\n",
        "Smile lets represent molecules with text strings.\n",
        "\n",
        "\n",
        "Like many representations in chemistry we do not represent hydrogene atoms, indeed we can deduce it from the rest of the data.\n",
        "\n",
        "\n",
        "The following code define the Smile Representation of a very simple molecule. We will try to find out more"
      ]
    },
    {
      "cell_type": "code",
      "execution_count": 3,
      "metadata": {
        "id": "xYwrD1UAwUw7"
      },
      "outputs": [],
      "source": [
        "smile_molecule = \"C\""
      ]
    },
    {
      "cell_type": "markdown",
      "metadata": {
        "id": "mWMD_Rt9wUw8"
      },
      "source": [
        "From the rdkit.Chem submodule, import MolFromSmiles\n",
        "\n",
        "Using MolFromSmiles, load smile_molecule into a rdkit molecule. Store it in a variable named first_mol"
      ]
    },
    {
      "cell_type": "code",
      "execution_count": 4,
      "metadata": {
        "id": "quz8JZZmwUw9"
      },
      "outputs": [],
      "source": [
        "first_mol = Chem.MolFromSmiles(smile_molecule)"
      ]
    },
    {
      "cell_type": "markdown",
      "metadata": {
        "id": "Q69JLySAwUw-"
      },
      "source": [
        "display the type of first_mol"
      ]
    },
    {
      "cell_type": "code",
      "execution_count": 5,
      "metadata": {
        "id": "aio0fTUAwUw-",
        "colab": {
          "base_uri": "https://localhost:8080/",
          "height": 167
        },
        "outputId": "3e37afa2-dfd7-467e-c1b1-3b143371689e"
      },
      "outputs": [
        {
          "output_type": "execute_result",
          "data": {
            "text/plain": [
              "<rdkit.Chem.rdchem.Mol at 0x7cf8c5e2b5a0>"
            ],
            "image/png": "[encoded data removed]"
          },
          "metadata": {},
          "execution_count": 5
        }
      ],
      "source": [
        "first_mol"
      ]
    },
    {
      "cell_type": "markdown",
      "metadata": {
        "id": "SsFWnN87wUw-"
      },
      "source": [
        "With the dir function, list the public methods of the object instance first_mol"
      ]
    },
    {
      "cell_type": "code",
      "execution_count": 6,
      "metadata": {
        "id": "mz8Qf45TwUw_",
        "colab": {
          "base_uri": "https://localhost:8080/"
        },
        "outputId": "8850612a-6e38-43c3-f729-0ceaccaf4eed"
      },
      "outputs": [
        {
          "output_type": "execute_result",
          "data": {
            "text/plain": [
              "['AddConformer',\n",
              " 'ClearComputedProps',\n",
              " 'ClearProp',\n",
              " 'Compute2DCoords',\n",
              " 'ComputeGasteigerCharges',\n",
              " 'Debug',\n",
              " 'GetAromaticAtoms',\n",
              " 'GetAtomWithIdx',\n",
              " 'GetAtoms',\n",
              " 'GetAtomsMatchingQuery',\n",
              " 'GetBondBetweenAtoms',\n",
              " 'GetBondWithIdx',\n",
              " 'GetBonds',\n",
              " 'GetBoolProp',\n",
              " 'GetConformer',\n",
              " 'GetConformers',\n",
              " 'GetDoubleProp',\n",
              " 'GetIntProp',\n",
              " 'GetNumAtoms',\n",
              " 'GetNumBonds',\n",
              " 'GetNumConformers',\n",
              " 'GetNumHeavyAtoms',\n",
              " 'GetProp',\n",
              " 'GetPropNames',\n",
              " 'GetPropsAsDict',\n",
              " 'GetRingInfo',\n",
              " 'GetStereoGroups',\n",
              " 'GetSubstructMatch',\n",
              " 'GetSubstructMatches',\n",
              " 'GetUnsignedProp',\n",
              " 'HasProp',\n",
              " 'HasQuery',\n",
              " 'HasSubstructMatch',\n",
              " 'NeedsUpdatePropertyCache',\n",
              " 'RemoveAllConformers',\n",
              " 'RemoveConformer',\n",
              " 'SetBoolProp',\n",
              " 'SetDoubleProp',\n",
              " 'SetIntProp',\n",
              " 'SetProp',\n",
              " 'SetUnsignedProp',\n",
              " 'ToBinary',\n",
              " 'UpdatePropertyCache',\n",
              " '__DebugMol',\n",
              " '__GetSubstructMatch',\n",
              " '__GetSubstructMatches',\n",
              " '__class__',\n",
              " '__copy__',\n",
              " '__deepcopy__',\n",
              " '__delattr__',\n",
              " '__dict__',\n",
              " '__dir__',\n",
              " '__doc__',\n",
              " '__eq__',\n",
              " '__format__',\n",
              " '__ge__',\n",
              " '__getattribute__',\n",
              " '__getinitargs__',\n",
              " '__getstate__',\n",
              " '__getstate_manages_dict__',\n",
              " '__gt__',\n",
              " '__hash__',\n",
              " '__init__',\n",
              " '__init_subclass__',\n",
              " '__instance_size__',\n",
              " '__le__',\n",
              " '__lt__',\n",
              " '__module__',\n",
              " '__ne__',\n",
              " '__new__',\n",
              " '__reduce__',\n",
              " '__reduce_ex__',\n",
              " '__repr__',\n",
              " '__safe_for_unpickling__',\n",
              " '__setattr__',\n",
              " '__setstate__',\n",
              " '__sizeof__',\n",
              " '__str__',\n",
              " '__subclasshook__',\n",
              " '__weakref__',\n",
              " '_repr_html_',\n",
              " '_repr_png_',\n",
              " '_repr_svg_']"
            ]
          },
          "metadata": {},
          "execution_count": 6
        }
      ],
      "source": [
        "methods = dir(first_mol)\n",
        "methods"
      ]
    },
    {
      "cell_type": "markdown",
      "metadata": {
        "id": "mKzPYxSrwUw_"
      },
      "source": [
        "Among all the methods, you should have found a method allowing you to get the number of atoms.\n",
        "Call it and store the result in a variable n_atoms and display it"
      ]
    },
    {
      "cell_type": "code",
      "execution_count": 7,
      "metadata": {
        "id": "i4e8EC88wUxA"
      },
      "outputs": [],
      "source": [
        " n_atoms = first_mol.GetNumAtoms()"
      ]
    },
    {
      "cell_type": "markdown",
      "source": [
        "Using Draw from rdkit.Chem module, draw the moldule"
      ],
      "metadata": {
        "id": "Eq0S7eWxySa3"
      }
    },
    {
      "cell_type": "code",
      "source": [
        "mol_image = Chem.Draw.MolToImage(first_mol)\n",
        "\n",
        "plt.imshow(mol_image)\n",
        "plt.axis('off')\n",
        "plt.show()"
      ],
      "metadata": {
        "id": "tEifCJ1P0K_S",
        "colab": {
          "base_uri": "https://localhost:8080/",
          "height": 406
        },
        "outputId": "36b03b00-c83e-495d-a582-0f0929eede2c"
      },
      "execution_count": 16,
      "outputs": [
        {
          "output_type": "display_data",
          "data": {
            "text/plain": [
              "<Figure size 640x480 with 1 Axes>"
            ],
            "image/png": "[encoded data removed]"
          },
          "metadata": {}
        }
      ]
    },
    {
      "cell_type": "markdown",
      "metadata": {
        "id": "tTIX9YumwUxA"
      },
      "source": [
        "Do you see a contradiction between the MolToImage and GetNumOfAtoms ? Can you explain why below\n"
      ]
    },
    {
      "cell_type": "markdown",
      "source": [
        "No, because there's only one molecule"
      ],
      "metadata": {
        "id": "Jkxr6OZOvVXe"
      }
    },
    {
      "cell_type": "markdown",
      "source": [],
      "metadata": {
        "id": "vLZ0kRf7yfK9"
      }
    },
    {
      "cell_type": "markdown",
      "metadata": {
        "id": "jGAKND9ywUxA"
      },
      "source": [
        "We will tell rdkit to clone the molecule but to add the hydrogen atoms now.\n",
        "Create a new molecule from first_mol using the method AddHs.\n",
        "Store it in a variable named mol2"
      ]
    },
    {
      "cell_type": "code",
      "source": [
        "mol2 = Chem.AddHs(first_mol)"
      ],
      "metadata": {
        "id": "QuVNxAAP0HcJ"
      },
      "execution_count": 18,
      "outputs": []
    },
    {
      "cell_type": "markdown",
      "metadata": {
        "id": "iIkqXXahwUxB"
      },
      "source": [
        "Display the number of Atoms now"
      ]
    },
    {
      "cell_type": "code",
      "execution_count": 19,
      "metadata": {
        "id": "do7LMiPPwUxB",
        "colab": {
          "base_uri": "https://localhost:8080/"
        },
        "outputId": "89eb8c5c-8b3c-454f-f5aa-faf24ce47760"
      },
      "outputs": [
        {
          "output_type": "execute_result",
          "data": {
            "text/plain": [
              "5"
            ]
          },
          "metadata": {},
          "execution_count": 19
        }
      ],
      "source": [
        "mol2.GetNumAtoms()"
      ]
    },
    {
      "cell_type": "markdown",
      "metadata": {
        "id": "a2ygBaWawUxC"
      },
      "source": [
        "Display the number of Heavy Atoms (check the methods from dir output)"
      ]
    },
    {
      "cell_type": "code",
      "execution_count": 20,
      "metadata": {
        "id": "v0phEP3DwUxC",
        "colab": {
          "base_uri": "https://localhost:8080/"
        },
        "outputId": "42d3b6d1-8b84-449d-8f0b-a2f280f2a4f0"
      },
      "outputs": [
        {
          "output_type": "execute_result",
          "data": {
            "text/plain": [
              "1"
            ]
          },
          "metadata": {},
          "execution_count": 20
        }
      ],
      "source": [
        "mol2.GetNumHeavyAtoms()"
      ]
    },
    {
      "cell_type": "markdown",
      "metadata": {
        "id": "r4EdaB3fwUxC"
      },
      "source": [
        "Is it coherent ?"
      ]
    },
    {
      "cell_type": "markdown",
      "metadata": {
        "id": "8l9FE-MDwUxC"
      },
      "source": [
        "Yes, it is coherent to have 5 atoms in total and only 1 heavy atom, depending on the molecule"
      ]
    },
    {
      "cell_type": "markdown",
      "metadata": {
        "id": "b1QtJcCgwUxC"
      },
      "source": [
        "With the MolToImage function of the Draw package, display the molecule mol2."
      ]
    },
    {
      "cell_type": "code",
      "execution_count": 21,
      "metadata": {
        "id": "6AcuA18TwUxD",
        "colab": {
          "base_uri": "https://localhost:8080/",
          "height": 406
        },
        "outputId": "0b6ba94b-e3b3-4137-ee63-41ad1f9bc2b7"
      },
      "outputs": [
        {
          "output_type": "display_data",
          "data": {
            "text/plain": [
              "<Figure size 640x480 with 1 Axes>"
            ],
            "image/png": "[encoded data removed]"
          },
          "metadata": {}
        }
      ],
      "source": [
        "mol_image_2 = Chem.Draw.MolToImage(mol2)\n",
        "\n",
        "plt.imshow(mol_image_2)\n",
        "plt.axis('off')\n",
        "plt.show()"
      ]
    },
    {
      "cell_type": "markdown",
      "metadata": {
        "id": "7uGe3cvywUxD"
      },
      "source": [
        "Let's look at a real molecule now.\n",
        "\n",
        "The following string contains the SMILE representation of the paracetamol molecule"
      ]
    },
    {
      "cell_type": "code",
      "execution_count": 25,
      "metadata": {
        "cell_id": "00008-dd610cb0-5abd-406c-a330-2da2d53262a0",
        "deepnote_cell_height": 65.60000610351562,
        "deepnote_cell_type": "code",
        "id": "IwfByzFGwUxD"
      },
      "outputs": [],
      "source": [
        "smile = 'CC(=O)NC1=CC=C(O)C=C1'"
      ]
    },
    {
      "cell_type": "markdown",
      "metadata": {
        "cell_id": "00011-9c66cae2-261b-4ec9-8a7c-e799d7083289",
        "deepnote_cell_height": 52,
        "deepnote_cell_type": "markdown",
        "id": "Nrse6TRswUxD"
      },
      "source": [
        "Using the MolFromSmiles function, create a molecule from the smile representation and print its types"
      ]
    },
    {
      "cell_type": "code",
      "execution_count": 26,
      "metadata": {
        "cell_id": "00012-a5674a89-c239-4173-8f98-778b289a388e",
        "deepnote_cell_height": 80.60000610351562,
        "deepnote_cell_type": "code",
        "deepnote_to_be_reexecuted": false,
        "execution_millis": 86,
        "execution_start": 1649748771633,
        "id": "ccbbFmLOqDJV",
        "source_hash": "38de17fb",
        "colab": {
          "base_uri": "https://localhost:8080/",
          "height": 167
        },
        "outputId": "bfcf9759-395d-4fa5-e208-616e6ab429f8"
      },
      "outputs": [
        {
          "output_type": "execute_result",
          "data": {
            "text/plain": [
              "<rdkit.Chem.rdchem.Mol at 0x7cf8c3637ed0>"
            ],
            "image/png": "[encoded data removed]"
          },
          "metadata": {},
          "execution_count": 26
        }
      ],
      "source": [
        "mol3 = rdkit.Chem.MolFromSmiles(smile)\n",
        "# Visualize its structure\n",
        "mol3"
      ]
    },
    {
      "cell_type": "markdown",
      "metadata": {
        "cell_id": "00013-96d3ed92-ebee-47ef-b52a-d522509ef206",
        "deepnote_cell_height": 52,
        "deepnote_cell_type": "markdown",
        "id": "3ajzmQ05wUxE"
      },
      "source": [
        "With the MolToImage function of the Draw package, display the molecule"
      ]
    },
    {
      "cell_type": "code",
      "execution_count": 27,
      "metadata": {
        "cell_id": "00014-605ea8c4-c77d-42b1-b28e-8dea04bfadbc",
        "deepnote_cell_height": 65.60000610351562,
        "deepnote_cell_type": "code",
        "id": "8snxocdqsKNJ",
        "colab": {
          "base_uri": "https://localhost:8080/",
          "height": 406
        },
        "outputId": "ba1c53b2-8cf1-4e5c-eb49-c9f4bb3ced90"
      },
      "outputs": [
        {
          "output_type": "display_data",
          "data": {
            "text/plain": [
              "<Figure size 640x480 with 1 Axes>"
            ],
            "image/png": "[encoded data removed]"
          },
          "metadata": {}
        }
      ],
      "source": [
        "mol_image_3 = Chem.Draw.MolToImage(mol3)\n",
        "\n",
        "plt.imshow(mol_image_3)\n",
        "plt.axis('off')\n",
        "plt.show()"
      ]
    },
    {
      "cell_type": "markdown",
      "metadata": {
        "cell_id": "00015-5cd6b93d-1f02-43ef-9f8e-04a39cc705cc",
        "deepnote_cell_height": 88.39999389648438,
        "deepnote_cell_type": "markdown",
        "id": "OMTaiXrjwUxE"
      },
      "source": [
        "You can get the Number of atoms of the molecules and the list of atoms with the methods GetNumAtoms and GetAtoms.\n",
        "\n",
        "Print the number of atoms of the molecule"
      ]
    },
    {
      "cell_type": "code",
      "execution_count": 28,
      "metadata": {
        "cell_id": "00016-50fde15d-059b-461e-9630-03f8c4e574ad",
        "deepnote_cell_height": 65.60000610351562,
        "deepnote_cell_type": "code",
        "id": "3yiWFSgdsk0j",
        "colab": {
          "base_uri": "https://localhost:8080/"
        },
        "outputId": "0f4fbc64-60a6-40e0-d61d-88a3d1a907e9"
      },
      "outputs": [
        {
          "output_type": "execute_result",
          "data": {
            "text/plain": [
              "11"
            ]
          },
          "metadata": {},
          "execution_count": 28
        }
      ],
      "source": [
        "mol3.GetNumAtoms()"
      ]
    },
    {
      "cell_type": "code",
      "source": [
        "mol3.GetAtoms()"
      ],
      "metadata": {
        "colab": {
          "base_uri": "https://localhost:8080/"
        },
        "id": "fOKqqVnOwj7N",
        "outputId": "d74e14c0-0731-4a73-b913-dac2eac796da"
      },
      "execution_count": 29,
      "outputs": [
        {
          "output_type": "execute_result",
          "data": {
            "text/plain": [
              "<rdkit.Chem._GetAtomsIterator at 0x7cf8c8d6b340>"
            ]
          },
          "metadata": {},
          "execution_count": 29
        }
      ]
    },
    {
      "cell_type": "markdown",
      "metadata": {
        "cell_id": "00018-00e691ed-0a03-4cfa-8e5c-063263a98de9",
        "deepnote_cell_height": 74.39999389648438,
        "deepnote_cell_type": "markdown",
        "id": "YmYhOEP2wUxF"
      },
      "source": [
        "If you compare to the picture, you may see that the number of atoms is not 11. What is the total number and why rdkit do not give the same answer ?"
      ]
    },
    {
      "cell_type": "markdown",
      "metadata": {
        "cell_id": "00019-25619709-2bf7-4ff3-adf2-820f8c26a43c",
        "deepnote_cell_height": 45.600006103515625,
        "deepnote_cell_type": "markdown",
        "id": "kgqHGhvhwUxF"
      },
      "source": [
        "RDKit uses implicit hydrogens. This means it does not explicitly count or display the hydrogens unless you add them manually using Chem.AddHs"
      ]
    },
    {
      "cell_type": "markdown",
      "metadata": {
        "cell_id": "00020-7277558b-490d-470a-8404-2192d96da77a",
        "deepnote_cell_height": 52,
        "deepnote_cell_type": "markdown",
        "id": "sek4D5_EwUxF"
      },
      "source": [
        "Print the list of each atoms"
      ]
    },
    {
      "cell_type": "code",
      "execution_count": 30,
      "metadata": {
        "cell_id": "00021-e7b9b4e0-1581-43cf-9b54-44fb10982f62",
        "deepnote_cell_height": 65.60000610351562,
        "deepnote_cell_type": "code",
        "id": "4rN88u9dtueQ",
        "colab": {
          "base_uri": "https://localhost:8080/"
        },
        "outputId": "605ee291-1df7-4838-a41c-b53ec7cdba25"
      },
      "outputs": [
        {
          "output_type": "stream",
          "name": "stdout",
          "text": [
            "C\n",
            "C\n",
            "O\n",
            "N\n",
            "C\n",
            "C\n",
            "C\n",
            "C\n",
            "O\n",
            "C\n",
            "C\n"
          ]
        }
      ],
      "source": [
        "for atoms in mol3.GetAtoms() :\n",
        "  print(atoms.GetSymbol())"
      ]
    },
    {
      "cell_type": "markdown",
      "metadata": {
        "cell_id": "00023-155b09a9-d08f-4e80-9eb2-c62d528851a6",
        "deepnote_cell_height": 52,
        "deepnote_cell_type": "markdown",
        "id": "GgicgMSEwUxF"
      },
      "source": [
        "Store the number of bonds of the molecule in **n_bond** (look which method can be used for that) and print"
      ]
    },
    {
      "cell_type": "code",
      "execution_count": null,
      "metadata": {
        "cell_id": "00024-9fd1d703-47c3-4cc4-9aa9-8a0057f07178",
        "deepnote_cell_height": 65.60000610351562,
        "deepnote_cell_type": "code",
        "id": "4BJGnXswtxFV"
      },
      "outputs": [],
      "source": [
        "n_bond = mol3.GetNumBonds()"
      ]
    },
    {
      "cell_type": "markdown",
      "metadata": {
        "cell_id": "00025-8b8879a3-8aae-4161-840d-0772c3665be5",
        "deepnote_cell_height": 52,
        "deepnote_cell_type": "markdown",
        "id": "8SG_3BXgwUxG"
      },
      "source": [
        "For each bond, print if the bond is single or double"
      ]
    },
    {
      "cell_type": "code",
      "execution_count": 32,
      "metadata": {
        "cell_id": "00026-ba0d2166-a420-4bb1-a1a5-8fb9247e0095",
        "deepnote_cell_height": 65.60000610351562,
        "deepnote_cell_type": "code",
        "id": "KvVVVogjwUxG",
        "colab": {
          "base_uri": "https://localhost:8080/"
        },
        "outputId": "d293e9c3-dfbc-4987-daf4-0ab6f8aa6ac6"
      },
      "outputs": [
        {
          "output_type": "stream",
          "name": "stdout",
          "text": [
            "SINGLE\n",
            "DOUBLE\n",
            "SINGLE\n",
            "SINGLE\n",
            "AROMATIC\n",
            "AROMATIC\n",
            "AROMATIC\n",
            "SINGLE\n",
            "AROMATIC\n",
            "AROMATIC\n",
            "AROMATIC\n"
          ]
        }
      ],
      "source": [
        "for atoms in mol3.GetBonds() :\n",
        "  print(atoms.GetBondType())"
      ]
    },
    {
      "cell_type": "markdown",
      "metadata": {
        "cell_id": "00027-b5995ed8-e09c-4b80-bb8d-b2ca3ea687d6",
        "deepnote_cell_height": 195.1999969482422,
        "deepnote_cell_type": "markdown",
        "id": "5ch4vabFuReu"
      },
      "source": [
        "### Reading molecule data from file\n",
        "\n",
        "Apart SMILES, .SDF and .Mol are also the common formats to save molecules. RDKit provides also functionalities to read these files.\n",
        "\n",
        "\n",
        "Morphine is an opioid agonist used for the relief of moderate to severe acute and chronic pain. The chemical information of this drug can be found at\n",
        "https://go.drugbank.com/structures/small_molecule_drugs/DB00295.sdf\n",
        "\n",
        "\n",
        "Download this file and save it in a folder.\n",
        "\n"
      ]
    },
    {
      "cell_type": "markdown",
      "metadata": {
        "cell_id": "00028-05da9607-1920-4a7d-829f-a3f81d13ecec",
        "deepnote_cell_height": 45.600006103515625,
        "deepnote_cell_type": "markdown",
        "id": "gm_r_DJ_wUxG"
      },
      "source": []
    },
    {
      "cell_type": "markdown",
      "metadata": {
        "cell_id": "00029-1506f2e3-1057-4c79-9643-9cdb2c1d63dd",
        "deepnote_cell_height": 311.20001220703125,
        "deepnote_cell_type": "markdown",
        "id": "tkc4vU55wUxG"
      },
      "source": [
        "\n",
        "SDF files can contain one or more molecules. To load them, you can use SDMolSupplier. When you use it it will return you an object that looks like a list.\n",
        "\n",
        "Read the file that you've downloaded using \"rdkit.Chem.SDMolSupplier\" and get the first molecule (the only one) and  store it in a variable named **morphine**\n",
        "\n"
      ]
    },
    {
      "cell_type": "code",
      "execution_count": 43,
      "metadata": {
        "cell_id": "00030-3b0c6161-258d-4626-971a-1570bbbf42a8",
        "deepnote_cell_height": 65.60000610351562,
        "deepnote_cell_type": "code",
        "owner_user_id": "6493ea36-0370-4fcc-a539-2fe0671931ca",
        "id": "CKgWFML8wUxH",
        "colab": {
          "base_uri": "https://localhost:8080/"
        },
        "outputId": "cf2eee8b-4803-4e42-eb8b-7c7053aa326c"
      },
      "outputs": [
        {
          "output_type": "stream",
          "name": "stderr",
          "text": [
            "[21:24:44] DEPRECATION WARNING: please use MorganGenerator\n"
          ]
        }
      ],
      "source": [
        "morphine_molecule = rdkit.Chem.SDMolSupplier('/content/DB00295.sdf')\n",
        "morphine = morphine_molecule[0]\n",
        "morphine_molecule_fingerprint = AllChem.GetMorganFingerprintAsBitVect(morphine_molecule[0], 2)"
      ]
    },
    {
      "cell_type": "markdown",
      "metadata": {
        "cell_id": "00031-112c817d-740a-4430-9185-28d4dac58306",
        "deepnote_cell_height": 52,
        "deepnote_cell_type": "markdown",
        "id": "Gi_atYXKwUxH"
      },
      "source": [
        "Display its type"
      ]
    },
    {
      "cell_type": "code",
      "execution_count": 44,
      "metadata": {
        "cell_id": "00032-4a15949d-949a-4501-9e8e-be0a6452502e",
        "deepnote_cell_height": 65.60000610351562,
        "deepnote_cell_type": "code",
        "id": "jyF8QU4DwUxH",
        "colab": {
          "base_uri": "https://localhost:8080/"
        },
        "outputId": "8933f07b-18b6-467e-8465-47893a64c111"
      },
      "outputs": [
        {
          "output_type": "execute_result",
          "data": {
            "text/plain": [
              "rdkit.Chem.rdchem.Mol"
            ]
          },
          "metadata": {},
          "execution_count": 44
        }
      ],
      "source": [
        "type(morphine)"
      ]
    },
    {
      "cell_type": "markdown",
      "metadata": {
        "cell_id": "00033-54c0e7ba-143f-43e7-902d-8d6ccd2c004d",
        "deepnote_cell_height": 52,
        "deepnote_cell_type": "markdown",
        "id": "u8jnQNRZwUxH"
      },
      "source": [
        "Display the picture of the molecule\n"
      ]
    },
    {
      "cell_type": "code",
      "execution_count": 45,
      "metadata": {
        "cell_id": "00034-29655988-df5c-43dd-b6d7-9ed1f1370a53",
        "deepnote_cell_height": 65.60000610351562,
        "deepnote_cell_type": "code",
        "id": "WWbhtTV2wUxH",
        "colab": {
          "base_uri": "https://localhost:8080/",
          "height": 317
        },
        "outputId": "006e14d9-ccca-4106-edcc-32fe7fa6f621"
      },
      "outputs": [
        {
          "output_type": "execute_result",
          "data": {
            "text/plain": [
              "<PIL.PngImagePlugin.PngImageFile image mode=RGB size=300x300>"
            ],
            "image/png": "[encoded data removed]",
            "image/jpeg": "[encoded data removed]"
          },
          "metadata": {},
          "execution_count": 45
        }
      ],
      "source": [
        "Chem.Draw.MolToImage(morphine)"
      ]
    },
    {
      "cell_type": "markdown",
      "metadata": {
        "cell_id": "00035-350e5687-2331-4394-8eb7-d38704dd6105",
        "deepnote_cell_height": 52,
        "deepnote_cell_type": "markdown",
        "id": "eZ04Xoy7wUxH"
      },
      "source": [
        "Display the number of atoms and the number of bonds"
      ]
    },
    {
      "cell_type": "code",
      "execution_count": 46,
      "metadata": {
        "cell_id": "00036-ec30068d-0462-4e43-ab3c-528747c4c761",
        "deepnote_cell_height": 65.60000610351562,
        "deepnote_cell_type": "code",
        "id": "XFhGGAORwUxH",
        "colab": {
          "base_uri": "https://localhost:8080/"
        },
        "outputId": "5369f425-a010-47d7-efbb-88dd0f9bb084"
      },
      "outputs": [
        {
          "output_type": "execute_result",
          "data": {
            "text/plain": [
              "21"
            ]
          },
          "metadata": {},
          "execution_count": 46
        }
      ],
      "source": [
        "morphine.GetNumAtoms()"
      ]
    },
    {
      "cell_type": "code",
      "source": [
        "morphine.GetNumBonds()"
      ],
      "metadata": {
        "colab": {
          "base_uri": "https://localhost:8080/"
        },
        "id": "YNAqMmIHz0uw",
        "outputId": "e8b08ea7-a96a-4ac9-f484-c3915049946f"
      },
      "execution_count": 47,
      "outputs": [
        {
          "output_type": "execute_result",
          "data": {
            "text/plain": [
              "25"
            ]
          },
          "metadata": {},
          "execution_count": 47
        }
      ]
    },
    {
      "cell_type": "markdown",
      "metadata": {
        "cell_id": "00037-00f838fc-8945-4e34-a80a-1c405e4a213b",
        "deepnote_cell_height": 234.60000610351562,
        "deepnote_cell_type": "markdown",
        "id": "GZXsjZGw3ofC"
      },
      "source": [
        "### Descriptors\n",
        "\n",
        "\n",
        "Molecules are also described by a set of physiochemical descriptors like\n",
        "- the log partition coefficient,\n",
        "- the polar surface area ... that describe the molecule's structure.\n",
        "\n",
        "\n",
        "RDKit provides utilities that allow us to compute descriptor of molecules.\n",
        "\n",
        "The rdkit.Chem.Descriptors module and its sub module let us compute molecule descriptors."
      ]
    },
    {
      "cell_type": "markdown",
      "metadata": {
        "cell_id": "00038-6a0e9066-3a92-4f1d-bd54-4cb670006585",
        "deepnote_cell_height": 74.39999389648438,
        "deepnote_cell_type": "markdown",
        "id": "p4IMXCRJwUxI"
      },
      "source": [
        "the rdkit.Chem.Descriptors module has an attribute name \\_descList, display it. It contains a list of tuple. Each tuple has the name of the physical property, and function associated to it to compute the given property"
      ]
    },
    {
      "cell_type": "code",
      "execution_count": 49,
      "metadata": {
        "cell_id": "00039-f2d00766-465d-4fbc-812f-8de5909e082e",
        "deepnote_cell_height": 65.60000610351562,
        "deepnote_cell_type": "code",
        "id": "A2TEGBucwUxI",
        "colab": {
          "base_uri": "https://localhost:8080/"
        },
        "outputId": "baec21b6-5bfd-413b-f110-d8680a3a4d2b"
      },
      "outputs": [
        {
          "output_type": "stream",
          "name": "stdout",
          "text": [
            "('MaxAbsEStateIndex', <function MaxAbsEStateIndex at 0x7cf8d0339090>)\n",
            "('MaxEStateIndex', <function MaxEStateIndex at 0x7cf8d0338f70>)\n",
            "('MinAbsEStateIndex', <function MinAbsEStateIndex at 0x7cf8d0339120>)\n",
            "('MinEStateIndex', <function MinEStateIndex at 0x7cf8d0339000>)\n",
            "('qed', <function qed at 0x7cf8d033beb0>)\n",
            "('SPS', <function SPS at 0x7cf8d037c3a0>)\n",
            "('MolWt', <function <lambda> at 0x7cf8d037c9d0>)\n",
            "('HeavyAtomMolWt', <function HeavyAtomMolWt at 0x7cf8d037ca60>)\n",
            "('ExactMolWt', <function <lambda> at 0x7cf8d037caf0>)\n",
            "('NumValenceElectrons', <function NumValenceElectrons at 0x7cf8d037cb80>)\n",
            "('NumRadicalElectrons', <function NumRadicalElectrons at 0x7cf8d037cc10>)\n",
            "('MaxPartialCharge', <function MaxPartialCharge at 0x7cf8d037cd30>)\n",
            "('MinPartialCharge', <function MinPartialCharge at 0x7cf8d037cdc0>)\n",
            "('MaxAbsPartialCharge', <function MaxAbsPartialCharge at 0x7cf8d037ce50>)\n",
            "('MinAbsPartialCharge', <function MinAbsPartialCharge at 0x7cf8d037cee0>)\n",
            "('FpDensityMorgan1', <function FpDensityMorgan1 at 0x7cf8d037d090>)\n",
            "('FpDensityMorgan2', <function FpDensityMorgan2 at 0x7cf8d037d120>)\n",
            "('FpDensityMorgan3', <function FpDensityMorgan3 at 0x7cf8d037d1b0>)\n",
            "('BCUT2D_MWHI', <function BCUT2D_MWHI at 0x7cf8d037d240>)\n",
            "('BCUT2D_MWLOW', <function BCUT2D_MWLOW at 0x7cf8d037d2d0>)\n",
            "('BCUT2D_CHGHI', <function BCUT2D_CHGHI at 0x7cf8d037d360>)\n",
            "('BCUT2D_CHGLO', <function BCUT2D_CHGLO at 0x7cf8d037d3f0>)\n",
            "('BCUT2D_LOGPHI', <function BCUT2D_LOGPHI at 0x7cf8d037d480>)\n",
            "('BCUT2D_LOGPLOW', <function BCUT2D_LOGPLOW at 0x7cf8d037d510>)\n",
            "('BCUT2D_MRHI', <function BCUT2D_MRHI at 0x7cf8d037d5a0>)\n",
            "('BCUT2D_MRLOW', <function BCUT2D_MRLOW at 0x7cf8d037d630>)\n",
            "('AvgIpc', <function AvgIpc at 0x7cf8cfe79d80>)\n",
            "('BalabanJ', <function BalabanJ at 0x7cf8cfe7b1c0>)\n",
            "('BertzCT', <function BertzCT at 0x7cf8cfe7b490>)\n",
            "('Chi0', <function Chi0 at 0x7cf8cfe7a200>)\n",
            "('Chi0n', <function <lambda> at 0x7cf8cfe7ae60>)\n",
            "('Chi0v', <function <lambda> at 0x7cf8cfe7ab00>)\n",
            "('Chi1', <function Chi1 at 0x7cf8cfe7a290>)\n",
            "('Chi1n', <function <lambda> at 0x7cf8cfe7aef0>)\n",
            "('Chi1v', <function <lambda> at 0x7cf8cfe7ab90>)\n",
            "('Chi2n', <function <lambda> at 0x7cf8cfe7af80>)\n",
            "('Chi2v', <function <lambda> at 0x7cf8cfe7ac20>)\n",
            "('Chi3n', <function <lambda> at 0x7cf8cfe7b010>)\n",
            "('Chi3v', <function <lambda> at 0x7cf8cfe7acb0>)\n",
            "('Chi4n', <function <lambda> at 0x7cf8cfe7b0a0>)\n",
            "('Chi4v', <function <lambda> at 0x7cf8cfe7ad40>)\n",
            "('HallKierAlpha', <function <lambda> at 0x7cf8cfe79fc0>)\n",
            "('Ipc', <function Ipc at 0x7cf8cfe79cf0>)\n",
            "('Kappa1', <function <lambda> at 0x7cf8cfe7a050>)\n",
            "('Kappa2', <function <lambda> at 0x7cf8cfe7a0e0>)\n",
            "('Kappa3', <function <lambda> at 0x7cf8cfe7a170>)\n",
            "('LabuteASA', <function <lambda> at 0x7cf8d033b400>)\n",
            "('PEOE_VSA1', <function _InstallDescriptors.<locals>.<lambda> at 0x7cf8d033ab90>)\n",
            "('PEOE_VSA10', <function _InstallDescriptors.<locals>.<lambda> at 0x7cf8d033b0a0>)\n",
            "('PEOE_VSA11', <function _InstallDescriptors.<locals>.<lambda> at 0x7cf8d033b130>)\n",
            "('PEOE_VSA12', <function _InstallDescriptors.<locals>.<lambda> at 0x7cf8d033b1c0>)\n",
            "('PEOE_VSA13', <function _InstallDescriptors.<locals>.<lambda> at 0x7cf8d033b250>)\n",
            "('PEOE_VSA14', <function _InstallDescriptors.<locals>.<lambda> at 0x7cf8d033b2e0>)\n",
            "('PEOE_VSA2', <function _InstallDescriptors.<locals>.<lambda> at 0x7cf8d033ac20>)\n",
            "('PEOE_VSA3', <function _InstallDescriptors.<locals>.<lambda> at 0x7cf8d033acb0>)\n",
            "('PEOE_VSA4', <function _InstallDescriptors.<locals>.<lambda> at 0x7cf8d033ad40>)\n",
            "('PEOE_VSA5', <function _InstallDescriptors.<locals>.<lambda> at 0x7cf8d033add0>)\n",
            "('PEOE_VSA6', <function _InstallDescriptors.<locals>.<lambda> at 0x7cf8d033ae60>)\n",
            "('PEOE_VSA7', <function _InstallDescriptors.<locals>.<lambda> at 0x7cf8d033aef0>)\n",
            "('PEOE_VSA8', <function _InstallDescriptors.<locals>.<lambda> at 0x7cf8d033af80>)\n",
            "('PEOE_VSA9', <function _InstallDescriptors.<locals>.<lambda> at 0x7cf8d033b010>)\n",
            "('SMR_VSA1', <function _InstallDescriptors.<locals>.<lambda> at 0x7cf8d0339f30>)\n",
            "('SMR_VSA10', <function _InstallDescriptors.<locals>.<lambda> at 0x7cf8d033a440>)\n",
            "('SMR_VSA2', <function _InstallDescriptors.<locals>.<lambda> at 0x7cf8d0339fc0>)\n",
            "('SMR_VSA3', <function _InstallDescriptors.<locals>.<lambda> at 0x7cf8d033a050>)\n",
            "('SMR_VSA4', <function _InstallDescriptors.<locals>.<lambda> at 0x7cf8d033a0e0>)\n",
            "('SMR_VSA5', <function _InstallDescriptors.<locals>.<lambda> at 0x7cf8d033a170>)\n",
            "('SMR_VSA6', <function _InstallDescriptors.<locals>.<lambda> at 0x7cf8d033a200>)\n",
            "('SMR_VSA7', <function _InstallDescriptors.<locals>.<lambda> at 0x7cf8d033a290>)\n",
            "('SMR_VSA8', <function _InstallDescriptors.<locals>.<lambda> at 0x7cf8d033a320>)\n",
            "('SMR_VSA9', <function _InstallDescriptors.<locals>.<lambda> at 0x7cf8d033a3b0>)\n",
            "('SlogP_VSA1', <function _InstallDescriptors.<locals>.<lambda> at 0x7cf8d033a4d0>)\n",
            "('SlogP_VSA10', <function _InstallDescriptors.<locals>.<lambda> at 0x7cf8d033a9e0>)\n",
            "('SlogP_VSA11', <function _InstallDescriptors.<locals>.<lambda> at 0x7cf8d033aa70>)\n",
            "('SlogP_VSA12', <function _InstallDescriptors.<locals>.<lambda> at 0x7cf8d033ab00>)\n",
            "('SlogP_VSA2', <function _InstallDescriptors.<locals>.<lambda> at 0x7cf8d033a560>)\n",
            "('SlogP_VSA3', <function _InstallDescriptors.<locals>.<lambda> at 0x7cf8d033a5f0>)\n",
            "('SlogP_VSA4', <function _InstallDescriptors.<locals>.<lambda> at 0x7cf8d033a680>)\n",
            "('SlogP_VSA5', <function _InstallDescriptors.<locals>.<lambda> at 0x7cf8d033a710>)\n",
            "('SlogP_VSA6', <function _InstallDescriptors.<locals>.<lambda> at 0x7cf8d033a7a0>)\n",
            "('SlogP_VSA7', <function _InstallDescriptors.<locals>.<lambda> at 0x7cf8d033a830>)\n",
            "('SlogP_VSA8', <function _InstallDescriptors.<locals>.<lambda> at 0x7cf8d033a8c0>)\n",
            "('SlogP_VSA9', <function _InstallDescriptors.<locals>.<lambda> at 0x7cf8d033a950>)\n",
            "('TPSA', <function <lambda> at 0x7cf8d033b5b0>)\n",
            "('EState_VSA1', <function EState_VSA1 at 0x7cf8cfe88d30>)\n",
            "('EState_VSA10', <function EState_VSA10 at 0x7cf8cfe89240>)\n",
            "('EState_VSA11', <function EState_VSA11 at 0x7cf8cfe892d0>)\n",
            "('EState_VSA2', <function EState_VSA2 at 0x7cf8cfe88dc0>)\n",
            "('EState_VSA3', <function EState_VSA3 at 0x7cf8cfe88e50>)\n",
            "('EState_VSA4', <function EState_VSA4 at 0x7cf8cfe88ee0>)\n",
            "('EState_VSA5', <function EState_VSA5 at 0x7cf8cfe88f70>)\n",
            "('EState_VSA6', <function EState_VSA6 at 0x7cf8cfe89000>)\n",
            "('EState_VSA7', <function EState_VSA7 at 0x7cf8cfe89090>)\n",
            "('EState_VSA8', <function EState_VSA8 at 0x7cf8cfe89120>)\n",
            "('EState_VSA9', <function EState_VSA9 at 0x7cf8cfe891b0>)\n",
            "('VSA_EState1', <function _descriptor_VSA_EState.<locals>.VSA_EState_bin at 0x7cf8cfe88790>)\n",
            "('VSA_EState10', <function _descriptor_VSA_EState.<locals>.VSA_EState_bin at 0x7cf8cfe88ca0>)\n",
            "('VSA_EState2', <function _descriptor_VSA_EState.<locals>.VSA_EState_bin at 0x7cf8cfe88820>)\n",
            "('VSA_EState3', <function _descriptor_VSA_EState.<locals>.VSA_EState_bin at 0x7cf8cfe888b0>)\n",
            "('VSA_EState4', <function _descriptor_VSA_EState.<locals>.VSA_EState_bin at 0x7cf8cfe88940>)\n",
            "('VSA_EState5', <function _descriptor_VSA_EState.<locals>.VSA_EState_bin at 0x7cf8cfe889d0>)\n",
            "('VSA_EState6', <function _descriptor_VSA_EState.<locals>.VSA_EState_bin at 0x7cf8cfe88a60>)\n",
            "('VSA_EState7', <function _descriptor_VSA_EState.<locals>.VSA_EState_bin at 0x7cf8cfe88af0>)\n",
            "('VSA_EState8', <function _descriptor_VSA_EState.<locals>.VSA_EState_bin at 0x7cf8cfe88b80>)\n",
            "('VSA_EState9', <function _descriptor_VSA_EState.<locals>.VSA_EState_bin at 0x7cf8cfe88c10>)\n",
            "('FractionCSP3', <function <lambda> at 0x7cf8cfe7bd00>)\n",
            "('HeavyAtomCount', <function HeavyAtomCount at 0x7cf8cfe7bc70>)\n",
            "('NHOHCount', <function <lambda> at 0x7cf8cfe7bb50>)\n",
            "('NOCount', <function <lambda> at 0x7cf8cfe7bac0>)\n",
            "('NumAliphaticCarbocycles', <function <lambda> at 0x7cf8cfe88280>)\n",
            "('NumAliphaticHeterocycles', <function <lambda> at 0x7cf8cfe881f0>)\n",
            "('NumAliphaticRings', <function <lambda> at 0x7cf8cfe88160>)\n",
            "('NumAromaticCarbocycles', <function <lambda> at 0x7cf8cfe7bf40>)\n",
            "('NumAromaticHeterocycles', <function <lambda> at 0x7cf8cfe7beb0>)\n",
            "('NumAromaticRings', <function <lambda> at 0x7cf8cfe7bd90>)\n",
            "('NumHAcceptors', <function <lambda> at 0x7cf8cfe7b760>)\n",
            "('NumHDonors', <function <lambda> at 0x7cf8cfe7b5b0>)\n",
            "('NumHeteroatoms', <function <lambda> at 0x7cf8cfe7b880>)\n",
            "('NumRotatableBonds', <function <lambda> at 0x7cf8cfe7b9a0>)\n",
            "('NumSaturatedCarbocycles', <function <lambda> at 0x7cf8cfe880d0>)\n",
            "('NumSaturatedHeterocycles', <function <lambda> at 0x7cf8cfe88040>)\n",
            "('NumSaturatedRings', <function <lambda> at 0x7cf8cfe7be20>)\n",
            "('RingCount', <function <lambda> at 0x7cf8cfe7bbe0>)\n",
            "('MolLogP', <function <lambda> at 0x7cf8d0339900>)\n",
            "('MolMR', <function <lambda> at 0x7cf8d0339990>)\n",
            "('fr_Al_COO', <function _LoadPatterns.<locals>.<lambda> at 0x7cf8d037eb90>)\n",
            "('fr_Al_OH', <function _LoadPatterns.<locals>.<lambda> at 0x7cf8d037e8c0>)\n",
            "('fr_Al_OH_noTert', <function _LoadPatterns.<locals>.<lambda> at 0x7cf8cfe79240>)\n",
            "('fr_ArN', <function _LoadPatterns.<locals>.<lambda> at 0x7cf8cfe79750>)\n",
            "('fr_Ar_COO', <function _LoadPatterns.<locals>.<lambda> at 0x7cf8d037ec20>)\n",
            "('fr_Ar_N', <function _LoadPatterns.<locals>.<lambda> at 0x7cf8d037f250>)\n",
            "('fr_Ar_NH', <function _LoadPatterns.<locals>.<lambda> at 0x7cf8d037f2e0>)\n",
            "('fr_Ar_OH', <function _LoadPatterns.<locals>.<lambda> at 0x7cf8d037e950>)\n",
            "('fr_COO', <function _LoadPatterns.<locals>.<lambda> at 0x7cf8d037ecb0>)\n",
            "('fr_COO2', <function _LoadPatterns.<locals>.<lambda> at 0x7cf8d037ed40>)\n",
            "('fr_C_O', <function _LoadPatterns.<locals>.<lambda> at 0x7cf8d037e7a0>)\n",
            "('fr_C_O_noCOO', <function _LoadPatterns.<locals>.<lambda> at 0x7cf8d037e830>)\n",
            "('fr_C_S', <function _LoadPatterns.<locals>.<lambda> at 0x7cf8cfe78160>)\n",
            "('fr_HOCCN', <function _LoadPatterns.<locals>.<lambda> at 0x7cf8cfe797e0>)\n",
            "('fr_Imine', <function _LoadPatterns.<locals>.<lambda> at 0x7cf8d037f400>)\n",
            "('fr_NH0', <function _LoadPatterns.<locals>.<lambda> at 0x7cf8d037f1c0>)\n",
            "('fr_NH1', <function _LoadPatterns.<locals>.<lambda> at 0x7cf8d037f130>)\n",
            "('fr_NH2', <function _LoadPatterns.<locals>.<lambda> at 0x7cf8d037f0a0>)\n",
            "('fr_N_O', <function _LoadPatterns.<locals>.<lambda> at 0x7cf8d037f6d0>)\n",
            "('fr_Ndealkylation1', <function _LoadPatterns.<locals>.<lambda> at 0x7cf8cfe79510>)\n",
            "('fr_Ndealkylation2', <function _LoadPatterns.<locals>.<lambda> at 0x7cf8cfe795a0>)\n",
            "('fr_Nhpyrrole', <function _LoadPatterns.<locals>.<lambda> at 0x7cf8d037fbe0>)\n",
            "('fr_SH', <function _LoadPatterns.<locals>.<lambda> at 0x7cf8cfe780d0>)\n",
            "('fr_aldehyde', <function _LoadPatterns.<locals>.<lambda> at 0x7cf8d037ef80>)\n",
            "('fr_alkyl_carbamate', <function _LoadPatterns.<locals>.<lambda> at 0x7cf8cfe79630>)\n",
            "('fr_alkyl_halide', <function _LoadPatterns.<locals>.<lambda> at 0x7cf8d037ff40>)\n",
            "('fr_allylic_oxid', <function _LoadPatterns.<locals>.<lambda> at 0x7cf8cfe79480>)\n",
            "('fr_amide', <function _LoadPatterns.<locals>.<lambda> at 0x7cf8d037f9a0>)\n",
            "('fr_amidine', <function _LoadPatterns.<locals>.<lambda> at 0x7cf8d037fac0>)\n",
            "('fr_aniline', <function _LoadPatterns.<locals>.<lambda> at 0x7cf8d037f370>)\n",
            "('fr_aryl_methyl', <function _LoadPatterns.<locals>.<lambda> at 0x7cf8cfe793f0>)\n",
            "('fr_azide', <function _LoadPatterns.<locals>.<lambda> at 0x7cf8d037f910>)\n",
            "('fr_azo', <function _LoadPatterns.<locals>.<lambda> at 0x7cf8d037f7f0>)\n",
            "('fr_barbitur', <function _LoadPatterns.<locals>.<lambda> at 0x7cf8cfe783a0>)\n",
            "('fr_benzene', <function _LoadPatterns.<locals>.<lambda> at 0x7cf8cfe78e50>)\n",
            "('fr_benzodiazepine', <function _LoadPatterns.<locals>.<lambda> at 0x7cf8cfe792d0>)\n",
            "('fr_bicyclic', <function _LoadPatterns.<locals>.<lambda> at 0x7cf8cfe78ca0>)\n",
            "('fr_diazo', <function _LoadPatterns.<locals>.<lambda> at 0x7cf8d037f880>)\n",
            "('fr_dihydropyridine', <function _LoadPatterns.<locals>.<lambda> at 0x7cf8cfe791b0>)\n",
            "('fr_epoxide', <function _LoadPatterns.<locals>.<lambda> at 0x7cf8cfe78c10>)\n",
            "('fr_ester', <function _LoadPatterns.<locals>.<lambda> at 0x7cf8d037eb00>)\n",
            "('fr_ether', <function _LoadPatterns.<locals>.<lambda> at 0x7cf8d037ee60>)\n",
            "('fr_furan', <function _LoadPatterns.<locals>.<lambda> at 0x7cf8cfe785e0>)\n",
            "('fr_guanido', <function _LoadPatterns.<locals>.<lambda> at 0x7cf8d037fb50>)\n",
            "('fr_halogen', <function _LoadPatterns.<locals>.<lambda> at 0x7cf8d037feb0>)\n",
            "('fr_hdrzine', <function _LoadPatterns.<locals>.<lambda> at 0x7cf8d037f5b0>)\n",
            "('fr_hdrzone', <function _LoadPatterns.<locals>.<lambda> at 0x7cf8d037f520>)\n",
            "('fr_imidazole', <function _LoadPatterns.<locals>.<lambda> at 0x7cf8cfe78550>)\n",
            "('fr_imide', <function _LoadPatterns.<locals>.<lambda> at 0x7cf8d037fc70>)\n",
            "('fr_isocyan', <function _LoadPatterns.<locals>.<lambda> at 0x7cf8d037fd00>)\n",
            "('fr_isothiocyan', <function _LoadPatterns.<locals>.<lambda> at 0x7cf8d037fd90>)\n",
            "('fr_ketone', <function _LoadPatterns.<locals>.<lambda> at 0x7cf8d037edd0>)\n",
            "('fr_ketone_Topliss', <function _LoadPatterns.<locals>.<lambda> at 0x7cf8cfe796c0>)\n",
            "('fr_lactam', <function _LoadPatterns.<locals>.<lambda> at 0x7cf8cfe78a60>)\n",
            "('fr_lactone', <function _LoadPatterns.<locals>.<lambda> at 0x7cf8cfe78af0>)\n",
            "('fr_methoxy', <function _LoadPatterns.<locals>.<lambda> at 0x7cf8d037e9e0>)\n",
            "('fr_morpholine', <function _LoadPatterns.<locals>.<lambda> at 0x7cf8cfe789d0>)\n",
            "('fr_nitrile', <function _LoadPatterns.<locals>.<lambda> at 0x7cf8d037f490>)\n",
            "('fr_nitro', <function _LoadPatterns.<locals>.<lambda> at 0x7cf8d037f760>)\n",
            "('fr_nitro_arom', <function _LoadPatterns.<locals>.<lambda> at 0x7cf8cfe79000>)\n",
            "('fr_nitro_arom_nonortho', <function _LoadPatterns.<locals>.<lambda> at 0x7cf8cfe79090>)\n",
            "('fr_nitroso', <function _LoadPatterns.<locals>.<lambda> at 0x7cf8d037f640>)\n",
            "('fr_oxazole', <function _LoadPatterns.<locals>.<lambda> at 0x7cf8cfe78790>)\n",
            "('fr_oxime', <function _LoadPatterns.<locals>.<lambda> at 0x7cf8d037ea70>)\n",
            "('fr_para_hydroxylation', <function _LoadPatterns.<locals>.<lambda> at 0x7cf8cfe79360>)\n",
            "('fr_phenol', <function _LoadPatterns.<locals>.<lambda> at 0x7cf8d037eef0>)\n",
            "('fr_phenol_noOrthoHbond', <function _LoadPatterns.<locals>.<lambda> at 0x7cf8cfe79120>)\n",
            "('fr_phos_acid', <function _LoadPatterns.<locals>.<lambda> at 0x7cf8cfe78ee0>)\n",
            "('fr_phos_ester', <function _LoadPatterns.<locals>.<lambda> at 0x7cf8cfe78f70>)\n",
            "('fr_piperdine', <function _LoadPatterns.<locals>.<lambda> at 0x7cf8cfe788b0>)\n",
            "('fr_piperzine', <function _LoadPatterns.<locals>.<lambda> at 0x7cf8cfe78940>)\n",
            "('fr_priamide', <function _LoadPatterns.<locals>.<lambda> at 0x7cf8d037fa30>)\n",
            "('fr_prisulfonamd', <function _LoadPatterns.<locals>.<lambda> at 0x7cf8cfe78310>)\n",
            "('fr_pyridine', <function _LoadPatterns.<locals>.<lambda> at 0x7cf8cfe78820>)\n",
            "('fr_quatN', <function _LoadPatterns.<locals>.<lambda> at 0x7cf8d037f010>)\n",
            "('fr_sulfide', <function _LoadPatterns.<locals>.<lambda> at 0x7cf8cfe78040>)\n",
            "('fr_sulfonamd', <function _LoadPatterns.<locals>.<lambda> at 0x7cf8cfe78280>)\n",
            "('fr_sulfone', <function _LoadPatterns.<locals>.<lambda> at 0x7cf8cfe781f0>)\n",
            "('fr_term_acetylene', <function _LoadPatterns.<locals>.<lambda> at 0x7cf8cfe784c0>)\n",
            "('fr_tetrazole', <function _LoadPatterns.<locals>.<lambda> at 0x7cf8cfe78b80>)\n",
            "('fr_thiazole', <function _LoadPatterns.<locals>.<lambda> at 0x7cf8cfe78700>)\n",
            "('fr_thiocyan', <function _LoadPatterns.<locals>.<lambda> at 0x7cf8d037fe20>)\n",
            "('fr_thiophene', <function _LoadPatterns.<locals>.<lambda> at 0x7cf8cfe78670>)\n",
            "('fr_unbrch_alkane', <function _LoadPatterns.<locals>.<lambda> at 0x7cf8cfe78dc0>)\n",
            "('fr_urea', <function _LoadPatterns.<locals>.<lambda> at 0x7cf8cfe78430>)\n"
          ]
        }
      ],
      "source": [
        "desc_list = Descriptors._descList\n",
        "\n",
        "# Print the list of tuples (property name and associated function)\n",
        "for desc in desc_list:\n",
        "    print(desc)"
      ]
    },
    {
      "cell_type": "markdown",
      "metadata": {
        "cell_id": "00040-d6748b2c-f940-45f6-9911-985577dd18b7",
        "deepnote_cell_height": 74.39999389648438,
        "deepnote_cell_type": "markdown",
        "id": "PmDGS-JGwUxI"
      },
      "source": [
        "Compute all descriptors in the _descList list of the paracetamol molecule using the MoleculeDescriptors.MolecularDescriptorCalculator class"
      ]
    },
    {
      "cell_type": "code",
      "execution_count": 51,
      "metadata": {
        "cell_id": "00041-4b4b6a98-ad3f-4f22-9452-35bc9570b17a",
        "deepnote_cell_height": 65.60000610351562,
        "deepnote_cell_type": "code",
        "id": "dvNfAT_JwUxI",
        "colab": {
          "base_uri": "https://localhost:8080/"
        },
        "outputId": "fc4fd555-c395-4ec9-b57d-98f2810a2ab4"
      },
      "outputs": [
        {
          "output_type": "stream",
          "name": "stdout",
          "text": [
            "(10.524468537414966, 10.524468537414966, 0.11510204081632636, -0.11510204081632636, 0.5950261967780849, 9.181818181818182, 151.165, 142.093, 151.063328528, 58, 0, 0.22074743631242583, -0.5079643157925783, 0.5079643157925783, 0.22074743631242583, 1.3636363636363635, 1.9090909090909092, 2.3636363636363638, 16.25468871437965, 10.280190859964755, 1.9280360590359866, -1.9945540738765895, 2.12524757916018, -2.04401131261029, 5.88095478459792, -0.11373578338266109, 1.9291266251851134, 2.7362980721056545, 253.29949758389105, 8.267584713501616, 6.164862962722325, 6.164862962722325, 5.1815405503520555, 3.2490981480278296, 3.2490981480278296, 2.228060242189872, 2.228060242189872, 1.1876733148984595, 1.1876733148984595, 0.7480265991539318, 0.7480265991539318, -1.5099999999999998, 285.51074052739676, 7.595374077976819, 3.0531381005525, 2.292303972882069, 64.66690538413799, 10.423315998847038, 5.749511833283905, 0.0, 5.907179729351506, 0.0, 0.0, 4.794537184071822, 0.0, 0.0, 0.0, 0.0, 24.26546827384644, 12.611123474374185, 0.0, 9.901064578912528, 11.594566004035068, 0.0, 0.0, 0.0, 6.923737199690624, 5.316788604006331, 24.26546827384644, 0.0, 5.749511833283905, 5.316788604006331, 5.687386274683562, 5.749511833283905, 0.0, 11.013707124192212, 4.794537184071822, 0.0, 6.923737199690624, 24.26546827384644, 0.0, 0.0, 0.0, 49.33, 0.0, 4.794537184071822, 0.0, 11.65669156263541, 5.687386274683562, 0.0, 19.056471336613843, 12.13273413692322, 0.0, 5.316788604006331, 5.106527394840706, 0.0, 0.0, 10.524468537414966, 11.460032596371882, 0.6900925925925929, 0.07851095993953194, 6.309537037037037, 0.0, 1.437358276643991, 0.0, 0.125, 11, 2, 3, 0, 0, 0, 1, 0, 1, 2, 2, 3, 1, 0, 0, 0, 1, 1.3505999999999998, 42.41050000000002, 0, 0, 0, 0, 0, 0, 0, 1, 0, 0, 1, 1, 0, 0, 0, 0, 1, 0, 0, 0, 0, 0, 0, 0, 0, 0, 0, 1, 0, 1, 0, 0, 0, 0, 1, 0, 0, 0, 0, 0, 0, 0, 0, 0, 0, 0, 0, 0, 0, 0, 0, 0, 0, 0, 0, 0, 0, 0, 0, 0, 0, 0, 0, 0, 0, 1, 1, 0, 0, 0, 0, 0, 0, 0, 0, 0, 0, 0, 0, 0, 0, 0, 0, 0, 0)\n"
          ]
        }
      ],
      "source": [
        "paracetamol_molecule = rdkit.Chem.MolFromSmiles(\"CC(=O)NC1=CC=C(O)C=C1\")\n",
        "descriptor_calculator = rdkit.ML.Descriptors.MoleculeDescriptors.MolecularDescriptorCalculator([x[0] for x in Chem.Descriptors._descList])\n",
        "print(descriptor_calculator.CalcDescriptors(paracetamol_molecule))"
      ]
    },
    {
      "cell_type": "markdown",
      "metadata": {
        "cell_id": "00042-baa938b8-9cb5-44b3-89d4-4ebaef013670",
        "deepnote_cell_height": 52,
        "deepnote_cell_type": "markdown",
        "id": "vQcACF5K3l1y"
      },
      "source": [
        "Display the names and the fvalues of the descriptors"
      ]
    },
    {
      "cell_type": "code",
      "execution_count": 60,
      "metadata": {
        "cell_id": "00043-32e14f39-ce8b-40d0-a066-0c62d7159053",
        "deepnote_cell_height": 65.60000610351562,
        "deepnote_cell_type": "code",
        "id": "uKfd9F_93urZ",
        "colab": {
          "base_uri": "https://localhost:8080/"
        },
        "outputId": "a5b93aff-d85d-476d-8415-6737e84f6e17"
      },
      "outputs": [
        {
          "output_type": "stream",
          "name": "stdout",
          "text": [
            "MaxAbsEStateIndex: 10.524468537414966\n",
            "MaxEStateIndex: 10.524468537414966\n",
            "MinAbsEStateIndex: 0.11510204081632636\n",
            "MinEStateIndex: -0.11510204081632636\n",
            "qed: 0.5950261967780849\n",
            "SPS: 9.181818181818182\n",
            "MolWt: 151.165\n",
            "HeavyAtomMolWt: 142.093\n",
            "ExactMolWt: 151.063328528\n",
            "NumValenceElectrons: 58\n",
            "NumRadicalElectrons: 0\n",
            "MaxPartialCharge: 0.22074743631242583\n",
            "MinPartialCharge: -0.5079643157925783\n",
            "MaxAbsPartialCharge: 0.5079643157925783\n",
            "MinAbsPartialCharge: 0.22074743631242583\n",
            "FpDensityMorgan1: 1.3636363636363635\n",
            "FpDensityMorgan2: 1.9090909090909092\n",
            "FpDensityMorgan3: 2.3636363636363638\n",
            "BCUT2D_MWHI: 16.25468871437965\n",
            "BCUT2D_MWLOW: 10.280190859964755\n",
            "BCUT2D_CHGHI: 1.9280360590359866\n",
            "BCUT2D_CHGLO: -1.9945540738765895\n",
            "BCUT2D_LOGPHI: 2.12524757916018\n",
            "BCUT2D_LOGPLOW: -2.04401131261029\n",
            "BCUT2D_MRHI: 5.88095478459792\n",
            "BCUT2D_MRLOW: -0.11373578338266109\n",
            "AvgIpc: 1.9291266251851134\n",
            "BalabanJ: 2.7362980721056545\n",
            "BertzCT: 253.29949758389105\n",
            "Chi0: 8.267584713501616\n",
            "Chi0n: 6.164862962722325\n",
            "Chi0v: 6.164862962722325\n",
            "Chi1: 5.1815405503520555\n",
            "Chi1n: 3.2490981480278296\n",
            "Chi1v: 3.2490981480278296\n",
            "Chi2n: 2.228060242189872\n",
            "Chi2v: 2.228060242189872\n",
            "Chi3n: 1.1876733148984595\n",
            "Chi3v: 1.1876733148984595\n",
            "Chi4n: 0.7480265991539318\n",
            "Chi4v: 0.7480265991539318\n",
            "HallKierAlpha: -1.5099999999999998\n",
            "Ipc: 285.51074052739676\n",
            "Kappa1: 7.595374077976819\n",
            "Kappa2: 3.0531381005525\n",
            "Kappa3: 2.292303972882069\n",
            "LabuteASA: 64.66690538413799\n",
            "PEOE_VSA1: 10.423315998847038\n",
            "PEOE_VSA10: 5.749511833283905\n",
            "PEOE_VSA11: 0.0\n",
            "PEOE_VSA12: 5.907179729351506\n",
            "PEOE_VSA13: 0.0\n",
            "PEOE_VSA14: 0.0\n",
            "PEOE_VSA2: 4.794537184071822\n",
            "PEOE_VSA3: 0.0\n",
            "PEOE_VSA4: 0.0\n",
            "PEOE_VSA5: 0.0\n",
            "PEOE_VSA6: 0.0\n",
            "PEOE_VSA7: 24.26546827384644\n",
            "PEOE_VSA8: 12.611123474374185\n",
            "PEOE_VSA9: 0.0\n",
            "SMR_VSA1: 9.901064578912528\n",
            "SMR_VSA10: 11.594566004035068\n",
            "SMR_VSA2: 0.0\n",
            "SMR_VSA3: 0.0\n",
            "SMR_VSA4: 0.0\n",
            "SMR_VSA5: 6.923737199690624\n",
            "SMR_VSA6: 5.316788604006331\n",
            "SMR_VSA7: 24.26546827384644\n",
            "SMR_VSA8: 0.0\n",
            "SMR_VSA9: 5.749511833283905\n",
            "SlogP_VSA1: 5.316788604006331\n",
            "SlogP_VSA10: 5.687386274683562\n",
            "SlogP_VSA11: 5.749511833283905\n",
            "SlogP_VSA12: 0.0\n",
            "SlogP_VSA2: 11.013707124192212\n",
            "SlogP_VSA3: 4.794537184071822\n",
            "SlogP_VSA4: 0.0\n",
            "SlogP_VSA5: 6.923737199690624\n",
            "SlogP_VSA6: 24.26546827384644\n",
            "SlogP_VSA7: 0.0\n",
            "SlogP_VSA8: 0.0\n",
            "SlogP_VSA9: 0.0\n",
            "TPSA: 49.33\n",
            "EState_VSA1: 0.0\n",
            "EState_VSA10: 4.794537184071822\n",
            "EState_VSA11: 0.0\n",
            "EState_VSA2: 11.65669156263541\n",
            "EState_VSA3: 5.687386274683562\n",
            "EState_VSA4: 0.0\n",
            "EState_VSA5: 19.056471336613843\n",
            "EState_VSA6: 12.13273413692322\n",
            "EState_VSA7: 0.0\n",
            "EState_VSA8: 5.316788604006331\n",
            "EState_VSA9: 5.106527394840706\n",
            "VSA_EState1: 0.0\n",
            "VSA_EState10: 0.0\n",
            "VSA_EState2: 10.524468537414966\n",
            "VSA_EState3: 11.460032596371882\n",
            "VSA_EState4: 0.6900925925925929\n",
            "VSA_EState5: 0.07851095993953194\n",
            "VSA_EState6: 6.309537037037037\n",
            "VSA_EState7: 0.0\n",
            "VSA_EState8: 1.437358276643991\n",
            "VSA_EState9: 0.0\n",
            "FractionCSP3: 0.125\n",
            "HeavyAtomCount: 11\n",
            "NHOHCount: 2\n",
            "NOCount: 3\n",
            "NumAliphaticCarbocycles: 0\n",
            "NumAliphaticHeterocycles: 0\n",
            "NumAliphaticRings: 0\n",
            "NumAromaticCarbocycles: 1\n",
            "NumAromaticHeterocycles: 0\n",
            "NumAromaticRings: 1\n",
            "NumHAcceptors: 2\n",
            "NumHDonors: 2\n",
            "NumHeteroatoms: 3\n",
            "NumRotatableBonds: 1\n",
            "NumSaturatedCarbocycles: 0\n",
            "NumSaturatedHeterocycles: 0\n",
            "NumSaturatedRings: 0\n",
            "RingCount: 1\n",
            "MolLogP: 1.3505999999999998\n",
            "MolMR: 42.41050000000002\n",
            "fr_Al_COO: 0\n",
            "fr_Al_OH: 0\n",
            "fr_Al_OH_noTert: 0\n",
            "fr_ArN: 0\n",
            "fr_Ar_COO: 0\n",
            "fr_Ar_N: 0\n",
            "fr_Ar_NH: 0\n",
            "fr_Ar_OH: 1\n",
            "fr_COO: 0\n",
            "fr_COO2: 0\n",
            "fr_C_O: 1\n",
            "fr_C_O_noCOO: 1\n",
            "fr_C_S: 0\n",
            "fr_HOCCN: 0\n",
            "fr_Imine: 0\n",
            "fr_NH0: 0\n",
            "fr_NH1: 1\n",
            "fr_NH2: 0\n",
            "fr_N_O: 0\n",
            "fr_Ndealkylation1: 0\n",
            "fr_Ndealkylation2: 0\n",
            "fr_Nhpyrrole: 0\n",
            "fr_SH: 0\n",
            "fr_aldehyde: 0\n",
            "fr_alkyl_carbamate: 0\n",
            "fr_alkyl_halide: 0\n",
            "fr_allylic_oxid: 0\n",
            "fr_amide: 1\n",
            "fr_amidine: 0\n",
            "fr_aniline: 1\n",
            "fr_aryl_methyl: 0\n",
            "fr_azide: 0\n",
            "fr_azo: 0\n",
            "fr_barbitur: 0\n",
            "fr_benzene: 1\n",
            "fr_benzodiazepine: 0\n",
            "fr_bicyclic: 0\n",
            "fr_diazo: 0\n",
            "fr_dihydropyridine: 0\n",
            "fr_epoxide: 0\n",
            "fr_ester: 0\n",
            "fr_ether: 0\n",
            "fr_furan: 0\n",
            "fr_guanido: 0\n",
            "fr_halogen: 0\n",
            "fr_hdrzine: 0\n",
            "fr_hdrzone: 0\n",
            "fr_imidazole: 0\n",
            "fr_imide: 0\n",
            "fr_isocyan: 0\n",
            "fr_isothiocyan: 0\n",
            "fr_ketone: 0\n",
            "fr_ketone_Topliss: 0\n",
            "fr_lactam: 0\n",
            "fr_lactone: 0\n",
            "fr_methoxy: 0\n",
            "fr_morpholine: 0\n",
            "fr_nitrile: 0\n",
            "fr_nitro: 0\n",
            "fr_nitro_arom: 0\n",
            "fr_nitro_arom_nonortho: 0\n",
            "fr_nitroso: 0\n",
            "fr_oxazole: 0\n",
            "fr_oxime: 0\n",
            "fr_para_hydroxylation: 0\n",
            "fr_phenol: 1\n",
            "fr_phenol_noOrthoHbond: 1\n",
            "fr_phos_acid: 0\n",
            "fr_phos_ester: 0\n",
            "fr_piperdine: 0\n",
            "fr_piperzine: 0\n",
            "fr_priamide: 0\n",
            "fr_prisulfonamd: 0\n",
            "fr_pyridine: 0\n",
            "fr_quatN: 0\n",
            "fr_sulfide: 0\n",
            "fr_sulfonamd: 0\n",
            "fr_sulfone: 0\n",
            "fr_term_acetylene: 0\n",
            "fr_tetrazole: 0\n",
            "fr_thiazole: 0\n",
            "fr_thiocyan: 0\n",
            "fr_thiophene: 0\n",
            "fr_unbrch_alkane: 0\n",
            "fr_urea: 0\n"
          ]
        }
      ],
      "source": [
        "from rdkit.Chem.Descriptors import _descList\n",
        "\n",
        "\n",
        "paracetamol_smiles = 'CC(=O)NC1=CC=C(O)C=C1'\n",
        "paracetamol_molecule = rdkit.Chem.MolFromSmiles(paracetamol_smiles)\n",
        "\n",
        "desc_calculator = MolecularDescriptorCalculator([desc[0] for desc in _descList])\n",
        "\n",
        "descriptors = desc_calculator.CalcDescriptors(paracetamol_molecule)\n",
        "\n",
        "descriptor_dict = dict(zip([desc[0] for desc in _descList], descriptors))\n",
        "for desc_name, value in descriptor_dict.items():\n",
        "    print(f\"{desc_name}: {value}\")"
      ]
    },
    {
      "cell_type": "markdown",
      "metadata": {
        "cell_id": "00044-44ab437c-a7e6-40f8-bfc6-d2d620d6a9b8",
        "deepnote_cell_height": 181.1999969482422,
        "deepnote_cell_type": "markdown",
        "id": "gljbmF6p3RX8"
      },
      "source": [
        "### Fingerprinting\n",
        "\n",
        "\n",
        "A chemical structure can be characterized by a set of numerical values known as molecular fingerprints. They may be 2D Fragment-based fingerprints presented by bit arrays of 0s and 1s wherein each bit position indicates the presence or absence of structural fragments.\n",
        "\n",
        "\n",
        "The RDKit has a variety of built-in functionality for generating molecular fingerprints and then using them to calculate molecular similarity. In this exercise, we will generate the fingerprints for parcetamol and aspirin that are two popular drugs used for pains.\n",
        "\n",
        "\n"
      ]
    },
    {
      "cell_type": "code",
      "execution_count": null,
      "metadata": {
        "cell_id": "00045-47b42508-c127-4cc3-a856-3af0b9214962",
        "deepnote_cell_height": 65.60000610351562,
        "deepnote_cell_type": "code",
        "id": "iqNa6jcFwUxJ"
      },
      "outputs": [],
      "source": []
    },
    {
      "cell_type": "markdown",
      "metadata": {
        "cell_id": "00046-96542193-46de-4bf5-bbe3-c2b33cd02541",
        "deepnote_cell_height": 52,
        "deepnote_cell_type": "markdown",
        "id": "HxkjJfp_wUxJ"
      },
      "source": [
        "\n",
        "With the help of rdkit.Chem.AllChem.GetMorganFingerprintAsBitVect, compute its fingerprint as a bit vector."
      ]
    },
    {
      "cell_type": "code",
      "execution_count": 61,
      "metadata": {
        "cell_id": "00047-cf47357b-427d-44e5-8f85-3277a29492a2",
        "deepnote_cell_height": 65.60000610351562,
        "deepnote_cell_type": "code",
        "id": "jxHqsfuTwUxJ",
        "colab": {
          "base_uri": "https://localhost:8080/"
        },
        "outputId": "09e58ced-f5e6-4806-8079-ef825cf2a9dc"
      },
      "outputs": [
        {
          "output_type": "stream",
          "name": "stderr",
          "text": [
            "[21:37:47] DEPRECATION WARNING: please use MorganGenerator\n"
          ]
        }
      ],
      "source": [
        "paracetamol_molecule = rdkit.Chem.MolFromSmiles(\"CC(=O)OC1=CC=CC=C1C(O)=O\")\n",
        "paracetamol_molecule_fingerprint = AllChem.GetMorganFingerprintAsBitVect(paracetamol_molecule, 2, nBits=1024)"
      ]
    },
    {
      "cell_type": "markdown",
      "metadata": {
        "cell_id": "00049-124332bb-7155-4988-99ea-8aae57250921",
        "deepnote_cell_height": 52,
        "deepnote_cell_type": "markdown",
        "id": "3Sy7vELwwUxJ"
      },
      "source": [
        "Display its type"
      ]
    },
    {
      "cell_type": "code",
      "execution_count": 62,
      "metadata": {
        "cell_id": "00050-7ebe67af-4ad8-4efc-91c8-5cf4471d7f20",
        "deepnote_cell_height": 65.60000610351562,
        "deepnote_cell_type": "code",
        "id": "Tev1bWf7uEod",
        "colab": {
          "base_uri": "https://localhost:8080/"
        },
        "outputId": "5d220a81-68cd-4b3f-f139-7fd42967c4c9"
      },
      "outputs": [
        {
          "output_type": "execute_result",
          "data": {
            "text/plain": [
              "rdkit.DataStructs.cDataStructs.ExplicitBitVect"
            ]
          },
          "metadata": {},
          "execution_count": 62
        }
      ],
      "source": [
        "type(paracetamol_molecule_fingerprint)"
      ]
    },
    {
      "cell_type": "markdown",
      "metadata": {
        "cell_id": "00051-a3e0e354-4c07-42c0-a881-bbd85e4e20d9",
        "deepnote_cell_height": 52,
        "deepnote_cell_type": "markdown",
        "id": "hdnCb6wbwUxJ"
      },
      "source": [
        "With the DataStructs module convert it to a numpy vector and display it shape and display it"
      ]
    },
    {
      "cell_type": "code",
      "execution_count": 64,
      "metadata": {
        "cell_id": "00052-23e08096-90d3-4f5c-862f-f305fc122eac",
        "deepnote_cell_height": 65.60000610351562,
        "deepnote_cell_type": "code",
        "id": "HwbR6a7WwUxK",
        "colab": {
          "base_uri": "https://localhost:8080/"
        },
        "outputId": "e64fc8ec-74dd-4c6d-dea1-03d46971fb26"
      },
      "outputs": [
        {
          "output_type": "execute_result",
          "data": {
            "text/plain": [
              "(array([  11,   23,   33,   64,  175,  356,  386,  389,  423,  444,  456,\n",
              "         592,  650,  695,  705,  726,  751,  807,  849,  893,  909,  946,\n",
              "         967, 1017]),)"
            ]
          },
          "metadata": {},
          "execution_count": 64
        }
      ],
      "source": [
        "paracetamol_molecule_fingerprint_vector = np.zeros((0, ), dtype=np.int8)\n",
        "DataStructs.ConvertToNumpyArray(paracetamol_molecule_fingerprint, paracetamol_molecule_fingerprint_vector)\n",
        "paracetamol_fingerprint_vector_non_zero = np.nonzero(paracetamol_molecule_fingerprint_vector)\n",
        "paracetamol_fingerprint_vector_non_zero"
      ]
    },
    {
      "cell_type": "markdown",
      "metadata": {
        "cell_id": "00053-d445fd97-c635-4ec2-8fa0-eec4143e799a",
        "deepnote_cell_height": 74.39999389648438,
        "deepnote_cell_type": "markdown",
        "id": "tI6Y7KjewUxK"
      },
      "source": [
        "Create a function smiles_to_np_morganfingerprinting which takes a smile representation and gives back the numpy version of the morgan finger_printing"
      ]
    },
    {
      "cell_type": "code",
      "execution_count": 76,
      "metadata": {
        "cell_id": "00054-8b86b5b2-d2b3-4a57-b843-50c58c961a81",
        "deepnote_cell_height": 65.60000610351562,
        "deepnote_cell_type": "code",
        "id": "JmmrCUJZwUxK"
      },
      "outputs": [],
      "source": [
        "def smiles_to_np_morganfingerprinting(smile):\n",
        "  molecule = rdkit.Chem.MolFromSmiles(smile)\n",
        "  fingerprint = AllChem.GetMorganFingerprintAsBitVect(molecule, 2, nBits=1024)\n",
        "  fingerprint_vector = np.zeros((0, ), dtype=np.int8)\n",
        "  DataStructs.ConvertToNumpyArray(fingerprint, fingerprint_vector)\n",
        "  return fingerprint_vector"
      ]
    },
    {
      "cell_type": "markdown",
      "metadata": {
        "cell_id": "00056-45dc63e1-8d6d-4952-8617-c619691e31f4",
        "deepnote_cell_height": 52,
        "deepnote_cell_type": "markdown",
        "id": "fOUdg2zOwUxK"
      },
      "source": [
        "Compute the morgan finger printing of the aspirin (CC(=O)OC1=CC=CC=C1C(O)=O) and paracetamol (CC(=O)NC1=CC=C(O)C=C1)"
      ]
    },
    {
      "cell_type": "code",
      "execution_count": 81,
      "metadata": {
        "cell_id": "00057-8320ba76-7bf0-457f-a278-5f08ed8055bc",
        "deepnote_cell_height": 65.60000610351562,
        "deepnote_cell_type": "code",
        "id": "QIQGbJsBwUxK",
        "colab": {
          "base_uri": "https://localhost:8080/"
        },
        "outputId": "ba34808d-045e-4abc-8ce4-ee1cbcbde16c"
      },
      "outputs": [
        {
          "output_type": "stream",
          "name": "stderr",
          "text": [
            "[21:49:01] DEPRECATION WARNING: please use MorganGenerator\n"
          ]
        }
      ],
      "source": [
        "aspirine_molecule = rdkit.Chem.MolFromSmiles(\"CC(=O)OC1=CC=CC=C1C(O)=O\")\n",
        "aspirine_fingerprint = AllChem.GetMorganFingerprintAsBitVect(aspirine_molecule, 2, nBits=1024)"
      ]
    },
    {
      "cell_type": "code",
      "source": [
        "paracetamol_molecule = rdkit.Chem.MolFromSmiles(\"CC(=O)NC1=CC=C(O)C=C1\")\n",
        "paracetamol_fingerprint = AllChem.GetMorganFingerprintAsBitVect(paracetamol_molecule, 2, nBits=1024)"
      ],
      "metadata": {
        "colab": {
          "base_uri": "https://localhost:8080/"
        },
        "id": "VqObuxlu3UpG",
        "outputId": "757f4289-3519-4676-c27f-0cba9bdb7560"
      },
      "execution_count": 84,
      "outputs": [
        {
          "output_type": "stream",
          "name": "stderr",
          "text": [
            "[21:50:28] DEPRECATION WARNING: please use MorganGenerator\n"
          ]
        }
      ]
    },
    {
      "cell_type": "markdown",
      "metadata": {
        "cell_id": "00058-61ab6f17-0a6c-47b7-9c52-7822f70728b2",
        "deepnote_cell_height": 52,
        "deepnote_cell_type": "markdown",
        "id": "ToJe2WjywUxK"
      },
      "source": [
        "Compute the DiceSimilarity of the two molecules"
      ]
    },
    {
      "cell_type": "code",
      "source": [
        "rdkit.DataStructs.DiceSimilarity(paracetamol_fingerprint, aspirine_fingerprint)"
      ],
      "metadata": {
        "id": "vEe5vFQzPbz0",
        "colab": {
          "base_uri": "https://localhost:8080/"
        },
        "outputId": "ebe3b105-c9f3-4598-b6b9-35a6c08618fd"
      },
      "execution_count": 85,
      "outputs": [
        {
          "output_type": "execute_result",
          "data": {
            "text/plain": [
              "0.37209302325581395"
            ]
          },
          "metadata": {},
          "execution_count": 85
        }
      ]
    }
  ],
  "metadata": {
    "colab": {
      "provenance": []
    },
    "deepnote": {},
    "deepnote_execution_queue": [],
    "deepnote_notebook_id": "18337e56-066d-4992-8ec7-3b37b0c030cc",
    "kernelspec": {
      "display_name": "Python 3 (ipykernel)",
      "language": "python",
      "name": "python3"
    },
    "language_info": {
      "codemirror_mode": {
        "name": "ipython",
        "version": 3
      },
      "file_extension": ".py",
      "mimetype": "text/x-python",
      "name": "python",
      "nbconvert_exporter": "python",
      "pygments_lexer": "ipython3",
      "version": "3.9.9"
    }
  },
  "nbformat": 4,
  "nbformat_minor": 0
}